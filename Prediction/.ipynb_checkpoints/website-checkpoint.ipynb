{
 "cells": [
  {
   "cell_type": "markdown",
   "metadata": {
    "colab_type": "text",
    "id": "aIxf_rKkFDsg"
   },
   "source": [
    "<center>\n",
    "<img src=\"../../img/ods_stickers.jpg\" />\n",
    "    \n",
    "## [mlcourse.ai](mlcourse.ai) – Open Machine Learning Course \n",
    "### <center> Author:Pragadeesh Suresh Babu, ODS Slack nickname : Pragadeesh\n",
    "    \n",
    "## <center> Individual data analysis project"
   ]
  },
  {
   "cell_type": "markdown",
   "metadata": {
    "colab_type": "text",
    "id": "N283Sr6VFDsh"
   },
   "source": [
    "**Research plan**\n",
    "     - Dataset and features description\n",
    "     - Exploratory data analysis\n",
    "     - Visual analysis of the features\n",
    "     - Patterns, insights, pecularities of data\n",
    "     - Data preprocessing\n",
    "     - Feature engineering and description\n",
    "     - Cross-validation, hyperparameter tuning\n",
    "     - Validation and learning curves\n",
    "     - Prediction for hold-out and test samples\n",
    "     - Model evaluation with metrics description\n",
    "     - Conclusions"
   ]
  },
  {
   "cell_type": "markdown",
   "metadata": {
    "colab_type": "text",
    "id": "KVrwRDk6FDsi"
   },
   "source": [
    "### Part 1. Dataset and features description"
   ]
  },
  {
   "cell_type": "markdown",
   "metadata": {
    "colab_type": "text",
    "id": "iC7u2raFrhYl"
   },
   "source": [
    "### **Abstract**: \n",
    "\n",
    "\n",
    "> The data is related with direct marketing campaigns (phone calls) of a Portuguese banking institution. The classification goal is to predict if the client will subscribe a term deposit (variable y).\n",
    " \n",
    " https://archive.ics.uci.edu/ml/datasets/Bank+Marketing\n",
    "\n",
    "\n",
    "\n",
    "\n",
    "\n",
    "\n",
    "\n",
    "\n"
   ]
  },
  {
   "cell_type": "markdown",
   "metadata": {
    "colab_type": "text",
    "id": "ChaJ4BPsFDsj"
   },
   "source": [
    "###  Input variables:\n",
    "#### Bank client data:\n",
    "1 - age (numeric)\n",
    "\n",
    "2 - job : type of job (categorical: 'admin.','blue-collar','entrepreneur','housemaid','management','retired','self-employed','services','student','technician','unemployed','unknown')\n",
    "\n",
    "3 - marital : marital status (categorical: 'divorced','married','single','unknown'; note: 'divorced' means divorced or widowed)\n",
    "\n",
    "4 - education (categorical:\n",
    "'basic.4y','basic.6y','basic.9y','high.school','illiterate','professional.course','university.degree','unknown')\n",
    "\n",
    "5 - default: has credit in default? (categorical: 'no','yes','unknown')\n",
    "\n",
    "6 - housing: has housing loan? (categorical: 'no','yes','unknown')\n",
    "\n",
    "7 - loan: has personal loan? (categorical: 'no','yes','unknown')\n",
    "####  Related with the last contact of the current campaign:\n",
    "8 - contact: contact communication type (categorical: 'cellular','telephone') \n",
    "\n",
    "9 - month: last contact month of year (categorical: 'jan', 'feb', 'mar', ..., 'nov', 'dec')\n",
    "\n",
    "10 - day_of_week: last contact day of the week (categorical: 'mon','tue','wed','thu','fri')\n",
    "\n",
    "11 - duration: last contact duration, in seconds (numeric). Important note: this attribute highly affects the output target (e.g., if duration=0 then y='no'). Yet, the duration is not known before a call is performed. Also, after the end of the call y is obviously known. Thus, this input should only be included for benchmark purposes and should be discarded if the intention is to have a realistic predictive model.\n",
    "\n",
    "####  Other attributes:\n",
    "12 - campaign: number of contacts performed during this campaign and for this client (numeric, includes last contact)\n",
    "\n",
    "13 - pdays: number of days that passed by after the client was last contacted from a previous campaign (numeric; 999 means client was not previously contacted)\n",
    "\n",
    "14 - previous: number of contacts performed before this campaign and for this client (numeric)\n",
    "\n",
    "15 - poutcome: outcome of the previous marketing campaign (categorical: 'failure','nonexistent','success')\n",
    "\n",
    "####  Social and economic context attributes\n",
    "16 - emp.var.rate: employment variation rate - quarterly indicator (numeric)\n",
    "\n",
    "17 - cons.price.idx: consumer price index - monthly indicator (numeric) \n",
    "\n",
    "18 - cons.conf.idx: consumer confidence index - monthly indicator (numeric) \n",
    "\n",
    "19 - euribor3m: euribor 3 month rate - daily indicator (numeric)\n",
    "\n",
    "20 - nr.employed: number of employees - quarterly indicator (numeric)\n",
    "\n",
    "\n",
    "### Output variable (desired target):\n",
    "21 - y - has the client subscribed a term deposit? (binary: 'yes','no')"
   ]
  },
  {
   "cell_type": "markdown",
   "metadata": {
    "colab_type": "text",
    "id": "_IFZI6k6FDsk"
   },
   "source": [
    "### Part 2. Exploratory data analysis"
   ]
  },
  {
   "cell_type": "code",
   "execution_count": 1,
   "metadata": {
    "colab": {
     "base_uri": "https://localhost:8080/",
     "height": 17
    },
    "colab_type": "code",
    "collapsed": true,
    "id": "a2m9nQz3FDsm",
    "outputId": "9ce3aad7-1ad4-4b18-c870-8b4adee47481"
   },
   "outputs": [],
   "source": [
    "import csv\n",
    "import pandas as pd\n",
    "import seaborn as sns\n",
    "import numpy as np\n",
    "import matplotlib.pyplot as plt\n",
    "from sklearn import preprocessing\n",
    "from xgboost.sklearn import XGBClassifier\n",
    "from xgboost import plot_importance"
   ]
  },
  {
   "cell_type": "code",
   "execution_count": 2,
   "metadata": {
    "colab": {
     "base_uri": "https://localhost:8080/",
     "height": 228
    },
    "colab_type": "code",
    "id": "Am70zIdFFDss",
    "outputId": "b53dfa2d-c233-4bd4-cd6a-f9283ddbfaa0"
   },
   "outputs": [
    {
     "data": {
      "text/html": [
       "<div>\n",
       "<style>\n",
       "    .dataframe thead tr:only-child th {\n",
       "        text-align: right;\n",
       "    }\n",
       "\n",
       "    .dataframe thead th {\n",
       "        text-align: left;\n",
       "    }\n",
       "\n",
       "    .dataframe tbody tr th {\n",
       "        vertical-align: top;\n",
       "    }\n",
       "</style>\n",
       "<table border=\"1\" class=\"dataframe\">\n",
       "  <thead>\n",
       "    <tr style=\"text-align: right;\">\n",
       "      <th></th>\n",
       "      <th>age</th>\n",
       "      <th>job</th>\n",
       "      <th>marital</th>\n",
       "      <th>education</th>\n",
       "      <th>default</th>\n",
       "      <th>housing</th>\n",
       "      <th>loan</th>\n",
       "      <th>contact</th>\n",
       "      <th>month</th>\n",
       "      <th>day_of_week</th>\n",
       "      <th>campaign</th>\n",
       "      <th>pdays</th>\n",
       "      <th>previous</th>\n",
       "      <th>poutcome</th>\n",
       "      <th>emp.var.rate</th>\n",
       "      <th>cons.price.idx</th>\n",
       "      <th>cons.conf.idx</th>\n",
       "      <th>euribor3m</th>\n",
       "      <th>nr.employed</th>\n",
       "      <th>y</th>\n",
       "    </tr>\n",
       "  </thead>\n",
       "  <tbody>\n",
       "    <tr>\n",
       "      <th>0</th>\n",
       "      <td>56</td>\n",
       "      <td>housemaid</td>\n",
       "      <td>married</td>\n",
       "      <td>basic.4y</td>\n",
       "      <td>no</td>\n",
       "      <td>no</td>\n",
       "      <td>no</td>\n",
       "      <td>telephone</td>\n",
       "      <td>may</td>\n",
       "      <td>mon</td>\n",
       "      <td>1</td>\n",
       "      <td>999</td>\n",
       "      <td>0</td>\n",
       "      <td>nonexistent</td>\n",
       "      <td>1.1</td>\n",
       "      <td>93.994</td>\n",
       "      <td>-36.4</td>\n",
       "      <td>4.857</td>\n",
       "      <td>5191.0</td>\n",
       "      <td>0</td>\n",
       "    </tr>\n",
       "    <tr>\n",
       "      <th>2</th>\n",
       "      <td>37</td>\n",
       "      <td>services</td>\n",
       "      <td>married</td>\n",
       "      <td>high.school</td>\n",
       "      <td>no</td>\n",
       "      <td>yes</td>\n",
       "      <td>no</td>\n",
       "      <td>telephone</td>\n",
       "      <td>may</td>\n",
       "      <td>mon</td>\n",
       "      <td>1</td>\n",
       "      <td>999</td>\n",
       "      <td>0</td>\n",
       "      <td>nonexistent</td>\n",
       "      <td>1.1</td>\n",
       "      <td>93.994</td>\n",
       "      <td>-36.4</td>\n",
       "      <td>4.857</td>\n",
       "      <td>5191.0</td>\n",
       "      <td>0</td>\n",
       "    </tr>\n",
       "    <tr>\n",
       "      <th>3</th>\n",
       "      <td>40</td>\n",
       "      <td>admin.</td>\n",
       "      <td>married</td>\n",
       "      <td>basic.6y</td>\n",
       "      <td>no</td>\n",
       "      <td>no</td>\n",
       "      <td>no</td>\n",
       "      <td>telephone</td>\n",
       "      <td>may</td>\n",
       "      <td>mon</td>\n",
       "      <td>1</td>\n",
       "      <td>999</td>\n",
       "      <td>0</td>\n",
       "      <td>nonexistent</td>\n",
       "      <td>1.1</td>\n",
       "      <td>93.994</td>\n",
       "      <td>-36.4</td>\n",
       "      <td>4.857</td>\n",
       "      <td>5191.0</td>\n",
       "      <td>0</td>\n",
       "    </tr>\n",
       "    <tr>\n",
       "      <th>4</th>\n",
       "      <td>56</td>\n",
       "      <td>services</td>\n",
       "      <td>married</td>\n",
       "      <td>high.school</td>\n",
       "      <td>no</td>\n",
       "      <td>no</td>\n",
       "      <td>yes</td>\n",
       "      <td>telephone</td>\n",
       "      <td>may</td>\n",
       "      <td>mon</td>\n",
       "      <td>1</td>\n",
       "      <td>999</td>\n",
       "      <td>0</td>\n",
       "      <td>nonexistent</td>\n",
       "      <td>1.1</td>\n",
       "      <td>93.994</td>\n",
       "      <td>-36.4</td>\n",
       "      <td>4.857</td>\n",
       "      <td>5191.0</td>\n",
       "      <td>0</td>\n",
       "    </tr>\n",
       "    <tr>\n",
       "      <th>6</th>\n",
       "      <td>59</td>\n",
       "      <td>admin.</td>\n",
       "      <td>married</td>\n",
       "      <td>professional.course</td>\n",
       "      <td>no</td>\n",
       "      <td>no</td>\n",
       "      <td>no</td>\n",
       "      <td>telephone</td>\n",
       "      <td>may</td>\n",
       "      <td>mon</td>\n",
       "      <td>1</td>\n",
       "      <td>999</td>\n",
       "      <td>0</td>\n",
       "      <td>nonexistent</td>\n",
       "      <td>1.1</td>\n",
       "      <td>93.994</td>\n",
       "      <td>-36.4</td>\n",
       "      <td>4.857</td>\n",
       "      <td>5191.0</td>\n",
       "      <td>0</td>\n",
       "    </tr>\n",
       "  </tbody>\n",
       "</table>\n",
       "</div>"
      ],
      "text/plain": [
       "   age        job  marital            education default housing loan  \\\n",
       "0   56  housemaid  married             basic.4y      no      no   no   \n",
       "2   37   services  married          high.school      no     yes   no   \n",
       "3   40     admin.  married             basic.6y      no      no   no   \n",
       "4   56   services  married          high.school      no      no  yes   \n",
       "6   59     admin.  married  professional.course      no      no   no   \n",
       "\n",
       "     contact month day_of_week  campaign  pdays  previous     poutcome  \\\n",
       "0  telephone   may         mon         1    999         0  nonexistent   \n",
       "2  telephone   may         mon         1    999         0  nonexistent   \n",
       "3  telephone   may         mon         1    999         0  nonexistent   \n",
       "4  telephone   may         mon         1    999         0  nonexistent   \n",
       "6  telephone   may         mon         1    999         0  nonexistent   \n",
       "\n",
       "   emp.var.rate  cons.price.idx  cons.conf.idx  euribor3m  nr.employed  y  \n",
       "0           1.1          93.994          -36.4      4.857       5191.0  0  \n",
       "2           1.1          93.994          -36.4      4.857       5191.0  0  \n",
       "3           1.1          93.994          -36.4      4.857       5191.0  0  \n",
       "4           1.1          93.994          -36.4      4.857       5191.0  0  \n",
       "6           1.1          93.994          -36.4      4.857       5191.0  0  "
      ]
     },
     "execution_count": 2,
     "metadata": {},
     "output_type": "execute_result"
    }
   ],
   "source": [
    "df=pd.read_csv('bank-additional/bank-additional-full.csv',sep=';') # read in the data\n",
    "df=df.replace('unknown',np.nan) # replace unknown value with NaN\n",
    "df=df.replace('N/A',np.nan)     # replace N/A value with NaN\n",
    "df['y']=df['y'].map({'no':0,'yes':1}) # replace target variable mapping to No->0, Yes->1\n",
    "df=df.drop('duration',axis=1)\n",
    "df=df.dropna(axis=0)\n",
    "df.head()"
   ]
  },
  {
   "cell_type": "code",
   "execution_count": 3,
   "metadata": {
    "colab": {
     "base_uri": "https://localhost:8080/",
     "height": 52
    },
    "colab_type": "code",
    "id": "y4kkM_PDFDsv",
    "outputId": "3a0ca378-1d1c-4f67-b20a-56641f9fd36c"
   },
   "outputs": [
    {
     "name": "stdout",
     "output_type": "stream",
     "text": [
      "Number of Rows: 30488\n",
      "Number of Columns: 20\n"
     ]
    }
   ],
   "source": [
    "print('Number of Rows:',df.shape[0])\n",
    "print('Number of Columns:',df.shape[1])"
   ]
  },
  {
   "cell_type": "code",
   "execution_count": 4,
   "metadata": {
    "colab": {
     "base_uri": "https://localhost:8080/",
     "height": 290
    },
    "colab_type": "code",
    "id": "x-g9zr9v_bNQ",
    "outputId": "b0b43a86-9a13-4fd7-ec08-2f7880ab8a94"
   },
   "outputs": [
    {
     "data": {
      "text/html": [
       "<div>\n",
       "<style>\n",
       "    .dataframe thead tr:only-child th {\n",
       "        text-align: right;\n",
       "    }\n",
       "\n",
       "    .dataframe thead th {\n",
       "        text-align: left;\n",
       "    }\n",
       "\n",
       "    .dataframe tbody tr th {\n",
       "        vertical-align: top;\n",
       "    }\n",
       "</style>\n",
       "<table border=\"1\" class=\"dataframe\">\n",
       "  <thead>\n",
       "    <tr style=\"text-align: right;\">\n",
       "      <th></th>\n",
       "      <th>age</th>\n",
       "      <th>campaign</th>\n",
       "      <th>pdays</th>\n",
       "      <th>previous</th>\n",
       "      <th>emp.var.rate</th>\n",
       "      <th>cons.price.idx</th>\n",
       "      <th>cons.conf.idx</th>\n",
       "      <th>euribor3m</th>\n",
       "      <th>nr.employed</th>\n",
       "      <th>y</th>\n",
       "    </tr>\n",
       "  </thead>\n",
       "  <tbody>\n",
       "    <tr>\n",
       "      <th>count</th>\n",
       "      <td>30488.000000</td>\n",
       "      <td>30488.000000</td>\n",
       "      <td>30488.000000</td>\n",
       "      <td>30488.000000</td>\n",
       "      <td>30488.000000</td>\n",
       "      <td>30488.000000</td>\n",
       "      <td>30488.000000</td>\n",
       "      <td>30488.000000</td>\n",
       "      <td>30488.000000</td>\n",
       "      <td>30488.000000</td>\n",
       "    </tr>\n",
       "    <tr>\n",
       "      <th>mean</th>\n",
       "      <td>39.030012</td>\n",
       "      <td>2.521451</td>\n",
       "      <td>956.332295</td>\n",
       "      <td>0.194273</td>\n",
       "      <td>-0.071510</td>\n",
       "      <td>93.523311</td>\n",
       "      <td>-40.602263</td>\n",
       "      <td>3.459938</td>\n",
       "      <td>5160.813409</td>\n",
       "      <td>0.126574</td>\n",
       "    </tr>\n",
       "    <tr>\n",
       "      <th>std</th>\n",
       "      <td>10.333529</td>\n",
       "      <td>2.720150</td>\n",
       "      <td>201.373292</td>\n",
       "      <td>0.522788</td>\n",
       "      <td>1.610399</td>\n",
       "      <td>0.585374</td>\n",
       "      <td>4.789249</td>\n",
       "      <td>1.777231</td>\n",
       "      <td>75.158065</td>\n",
       "      <td>0.332501</td>\n",
       "    </tr>\n",
       "    <tr>\n",
       "      <th>min</th>\n",
       "      <td>17.000000</td>\n",
       "      <td>1.000000</td>\n",
       "      <td>0.000000</td>\n",
       "      <td>0.000000</td>\n",
       "      <td>-3.400000</td>\n",
       "      <td>92.201000</td>\n",
       "      <td>-50.800000</td>\n",
       "      <td>0.634000</td>\n",
       "      <td>4963.600000</td>\n",
       "      <td>0.000000</td>\n",
       "    </tr>\n",
       "    <tr>\n",
       "      <th>25%</th>\n",
       "      <td>31.000000</td>\n",
       "      <td>1.000000</td>\n",
       "      <td>999.000000</td>\n",
       "      <td>0.000000</td>\n",
       "      <td>-1.800000</td>\n",
       "      <td>93.075000</td>\n",
       "      <td>-42.700000</td>\n",
       "      <td>1.313000</td>\n",
       "      <td>5099.100000</td>\n",
       "      <td>0.000000</td>\n",
       "    </tr>\n",
       "    <tr>\n",
       "      <th>50%</th>\n",
       "      <td>37.000000</td>\n",
       "      <td>2.000000</td>\n",
       "      <td>999.000000</td>\n",
       "      <td>0.000000</td>\n",
       "      <td>1.100000</td>\n",
       "      <td>93.444000</td>\n",
       "      <td>-41.800000</td>\n",
       "      <td>4.856000</td>\n",
       "      <td>5191.000000</td>\n",
       "      <td>0.000000</td>\n",
       "    </tr>\n",
       "    <tr>\n",
       "      <th>75%</th>\n",
       "      <td>45.000000</td>\n",
       "      <td>3.000000</td>\n",
       "      <td>999.000000</td>\n",
       "      <td>0.000000</td>\n",
       "      <td>1.400000</td>\n",
       "      <td>93.994000</td>\n",
       "      <td>-36.400000</td>\n",
       "      <td>4.961000</td>\n",
       "      <td>5228.100000</td>\n",
       "      <td>0.000000</td>\n",
       "    </tr>\n",
       "    <tr>\n",
       "      <th>max</th>\n",
       "      <td>95.000000</td>\n",
       "      <td>43.000000</td>\n",
       "      <td>999.000000</td>\n",
       "      <td>7.000000</td>\n",
       "      <td>1.400000</td>\n",
       "      <td>94.767000</td>\n",
       "      <td>-26.900000</td>\n",
       "      <td>5.045000</td>\n",
       "      <td>5228.100000</td>\n",
       "      <td>1.000000</td>\n",
       "    </tr>\n",
       "  </tbody>\n",
       "</table>\n",
       "</div>"
      ],
      "text/plain": [
       "                age      campaign         pdays      previous  emp.var.rate  \\\n",
       "count  30488.000000  30488.000000  30488.000000  30488.000000  30488.000000   \n",
       "mean      39.030012      2.521451    956.332295      0.194273     -0.071510   \n",
       "std       10.333529      2.720150    201.373292      0.522788      1.610399   \n",
       "min       17.000000      1.000000      0.000000      0.000000     -3.400000   \n",
       "25%       31.000000      1.000000    999.000000      0.000000     -1.800000   \n",
       "50%       37.000000      2.000000    999.000000      0.000000      1.100000   \n",
       "75%       45.000000      3.000000    999.000000      0.000000      1.400000   \n",
       "max       95.000000     43.000000    999.000000      7.000000      1.400000   \n",
       "\n",
       "       cons.price.idx  cons.conf.idx     euribor3m   nr.employed             y  \n",
       "count    30488.000000   30488.000000  30488.000000  30488.000000  30488.000000  \n",
       "mean        93.523311     -40.602263      3.459938   5160.813409      0.126574  \n",
       "std          0.585374       4.789249      1.777231     75.158065      0.332501  \n",
       "min         92.201000     -50.800000      0.634000   4963.600000      0.000000  \n",
       "25%         93.075000     -42.700000      1.313000   5099.100000      0.000000  \n",
       "50%         93.444000     -41.800000      4.856000   5191.000000      0.000000  \n",
       "75%         93.994000     -36.400000      4.961000   5228.100000      0.000000  \n",
       "max         94.767000     -26.900000      5.045000   5228.100000      1.000000  "
      ]
     },
     "execution_count": 4,
     "metadata": {},
     "output_type": "execute_result"
    }
   ],
   "source": [
    "df.describe() # basic statistics of numeric columns"
   ]
  },
  {
   "cell_type": "markdown",
   "metadata": {
    "colab_type": "text",
    "id": "UY8OnsZDFDtK"
   },
   "source": [
    "### Part 5. Data preprocessing"
   ]
  },
  {
   "cell_type": "markdown",
   "metadata": {
    "colab_type": "text",
    "id": "yPSiXUC4O_MO"
   },
   "source": [
    "Our dataframe has many non numeric columns. Those columns can be converted to numeric by one hot encoding those values."
   ]
  },
  {
   "cell_type": "code",
   "execution_count": 5,
   "metadata": {},
   "outputs": [
    {
     "name": "stdout",
     "output_type": "stream",
     "text": [
      "{'job': {'admin.': 0, 'blue-collar': 1, 'entrepreneur': 2, 'housemaid': 3, 'management': 4, 'retired': 5, 'self-employed': 6, 'services': 7, 'student': 8, 'technician': 9, 'unemployed': 10}, 'marital': {'divorced': 0, 'married': 1, 'single': 2}, 'education': {'basic.4y': 0, 'basic.6y': 1, 'basic.9y': 2, 'high.school': 3, 'illiterate': 4, 'professional.course': 5, 'university.degree': 6}, 'default': {'no': 0, 'yes': 1}, 'housing': {'no': 0, 'yes': 1}, 'loan': {'no': 0, 'yes': 1}, 'contact': {'cellular': 0, 'telephone': 1}, 'month': {'apr': 0, 'aug': 1, 'dec': 2, 'jul': 3, 'jun': 4, 'mar': 5, 'may': 6, 'nov': 7, 'oct': 8, 'sep': 9}, 'day_of_week': {'fri': 0, 'mon': 1, 'thu': 2, 'tue': 3, 'wed': 4}, 'poutcome': {'failure': 0, 'nonexistent': 1, 'success': 2}}\n"
     ]
    }
   ],
   "source": [
    "mapping_dict={}\n",
    "columns_preprocess = df.columns.drop(['age','pdays','emp.var.rate', 'cons.price.idx', 'cons.conf.idx', 'euribor3m','nr.employed', 'y','campaign', 'previous'])\n",
    "df['pdays']=df['pdays'].replace(999,-1)\n",
    "le = preprocessing.LabelEncoder()\n",
    "for col in columns_preprocess:\n",
    "    df[col] = le.fit_transform(df[col])\n",
    "    le_name_mapping = dict(zip(le.classes_, le.transform(le.classes_)))\n",
    "    mapping_dict[col]=le_name_mapping\n",
    "print(mapping_dict)"
   ]
  },
  {
   "cell_type": "code",
   "execution_count": 6,
   "metadata": {},
   "outputs": [
    {
     "data": {
      "text/html": [
       "<div>\n",
       "<style>\n",
       "    .dataframe thead tr:only-child th {\n",
       "        text-align: right;\n",
       "    }\n",
       "\n",
       "    .dataframe thead th {\n",
       "        text-align: left;\n",
       "    }\n",
       "\n",
       "    .dataframe tbody tr th {\n",
       "        vertical-align: top;\n",
       "    }\n",
       "</style>\n",
       "<table border=\"1\" class=\"dataframe\">\n",
       "  <thead>\n",
       "    <tr style=\"text-align: right;\">\n",
       "      <th></th>\n",
       "      <th>age</th>\n",
       "      <th>job</th>\n",
       "      <th>marital</th>\n",
       "      <th>education</th>\n",
       "      <th>default</th>\n",
       "      <th>housing</th>\n",
       "      <th>loan</th>\n",
       "      <th>contact</th>\n",
       "      <th>month</th>\n",
       "      <th>day_of_week</th>\n",
       "      <th>campaign</th>\n",
       "      <th>pdays</th>\n",
       "      <th>previous</th>\n",
       "      <th>poutcome</th>\n",
       "      <th>emp.var.rate</th>\n",
       "      <th>cons.price.idx</th>\n",
       "      <th>cons.conf.idx</th>\n",
       "      <th>euribor3m</th>\n",
       "      <th>nr.employed</th>\n",
       "      <th>y</th>\n",
       "    </tr>\n",
       "  </thead>\n",
       "  <tbody>\n",
       "    <tr>\n",
       "      <th>0</th>\n",
       "      <td>56</td>\n",
       "      <td>3</td>\n",
       "      <td>1</td>\n",
       "      <td>0</td>\n",
       "      <td>0</td>\n",
       "      <td>0</td>\n",
       "      <td>0</td>\n",
       "      <td>1</td>\n",
       "      <td>6</td>\n",
       "      <td>1</td>\n",
       "      <td>1</td>\n",
       "      <td>-1</td>\n",
       "      <td>0</td>\n",
       "      <td>1</td>\n",
       "      <td>1.1</td>\n",
       "      <td>93.994</td>\n",
       "      <td>-36.4</td>\n",
       "      <td>4.857</td>\n",
       "      <td>5191.0</td>\n",
       "      <td>0</td>\n",
       "    </tr>\n",
       "    <tr>\n",
       "      <th>2</th>\n",
       "      <td>37</td>\n",
       "      <td>7</td>\n",
       "      <td>1</td>\n",
       "      <td>3</td>\n",
       "      <td>0</td>\n",
       "      <td>1</td>\n",
       "      <td>0</td>\n",
       "      <td>1</td>\n",
       "      <td>6</td>\n",
       "      <td>1</td>\n",
       "      <td>1</td>\n",
       "      <td>-1</td>\n",
       "      <td>0</td>\n",
       "      <td>1</td>\n",
       "      <td>1.1</td>\n",
       "      <td>93.994</td>\n",
       "      <td>-36.4</td>\n",
       "      <td>4.857</td>\n",
       "      <td>5191.0</td>\n",
       "      <td>0</td>\n",
       "    </tr>\n",
       "    <tr>\n",
       "      <th>3</th>\n",
       "      <td>40</td>\n",
       "      <td>0</td>\n",
       "      <td>1</td>\n",
       "      <td>1</td>\n",
       "      <td>0</td>\n",
       "      <td>0</td>\n",
       "      <td>0</td>\n",
       "      <td>1</td>\n",
       "      <td>6</td>\n",
       "      <td>1</td>\n",
       "      <td>1</td>\n",
       "      <td>-1</td>\n",
       "      <td>0</td>\n",
       "      <td>1</td>\n",
       "      <td>1.1</td>\n",
       "      <td>93.994</td>\n",
       "      <td>-36.4</td>\n",
       "      <td>4.857</td>\n",
       "      <td>5191.0</td>\n",
       "      <td>0</td>\n",
       "    </tr>\n",
       "    <tr>\n",
       "      <th>4</th>\n",
       "      <td>56</td>\n",
       "      <td>7</td>\n",
       "      <td>1</td>\n",
       "      <td>3</td>\n",
       "      <td>0</td>\n",
       "      <td>0</td>\n",
       "      <td>1</td>\n",
       "      <td>1</td>\n",
       "      <td>6</td>\n",
       "      <td>1</td>\n",
       "      <td>1</td>\n",
       "      <td>-1</td>\n",
       "      <td>0</td>\n",
       "      <td>1</td>\n",
       "      <td>1.1</td>\n",
       "      <td>93.994</td>\n",
       "      <td>-36.4</td>\n",
       "      <td>4.857</td>\n",
       "      <td>5191.0</td>\n",
       "      <td>0</td>\n",
       "    </tr>\n",
       "    <tr>\n",
       "      <th>6</th>\n",
       "      <td>59</td>\n",
       "      <td>0</td>\n",
       "      <td>1</td>\n",
       "      <td>5</td>\n",
       "      <td>0</td>\n",
       "      <td>0</td>\n",
       "      <td>0</td>\n",
       "      <td>1</td>\n",
       "      <td>6</td>\n",
       "      <td>1</td>\n",
       "      <td>1</td>\n",
       "      <td>-1</td>\n",
       "      <td>0</td>\n",
       "      <td>1</td>\n",
       "      <td>1.1</td>\n",
       "      <td>93.994</td>\n",
       "      <td>-36.4</td>\n",
       "      <td>4.857</td>\n",
       "      <td>5191.0</td>\n",
       "      <td>0</td>\n",
       "    </tr>\n",
       "  </tbody>\n",
       "</table>\n",
       "</div>"
      ],
      "text/plain": [
       "   age  job  marital  education  default  housing  loan  contact  month  \\\n",
       "0   56    3        1          0        0        0     0        1      6   \n",
       "2   37    7        1          3        0        1     0        1      6   \n",
       "3   40    0        1          1        0        0     0        1      6   \n",
       "4   56    7        1          3        0        0     1        1      6   \n",
       "6   59    0        1          5        0        0     0        1      6   \n",
       "\n",
       "   day_of_week  campaign  pdays  previous  poutcome  emp.var.rate  \\\n",
       "0            1         1     -1         0         1           1.1   \n",
       "2            1         1     -1         0         1           1.1   \n",
       "3            1         1     -1         0         1           1.1   \n",
       "4            1         1     -1         0         1           1.1   \n",
       "6            1         1     -1         0         1           1.1   \n",
       "\n",
       "   cons.price.idx  cons.conf.idx  euribor3m  nr.employed  y  \n",
       "0          93.994          -36.4      4.857       5191.0  0  \n",
       "2          93.994          -36.4      4.857       5191.0  0  \n",
       "3          93.994          -36.4      4.857       5191.0  0  \n",
       "4          93.994          -36.4      4.857       5191.0  0  \n",
       "6          93.994          -36.4      4.857       5191.0  0  "
      ]
     },
     "execution_count": 6,
     "metadata": {},
     "output_type": "execute_result"
    }
   ],
   "source": [
    "df.head()"
   ]
  },
  {
   "cell_type": "code",
   "execution_count": 7,
   "metadata": {},
   "outputs": [
    {
     "data": {
      "text/plain": [
       "(30488, 20)"
      ]
     },
     "execution_count": 7,
     "metadata": {},
     "output_type": "execute_result"
    }
   ],
   "source": [
    "df.shape"
   ]
  },
  {
   "cell_type": "code",
   "execution_count": 141,
   "metadata": {},
   "outputs": [
    {
     "data": {
      "text/plain": [
       "Index(['age', 'job', 'marital', 'education', 'default', 'housing', 'loan',\n",
       "       'contact', 'month', 'day_of_week', 'campaign', 'pdays', 'previous',\n",
       "       'poutcome', 'emp.var.rate', 'cons.price.idx', 'cons.conf.idx',\n",
       "       'euribor3m', 'nr.employed', 'y'],\n",
       "      dtype='object')"
      ]
     },
     "execution_count": 141,
     "metadata": {},
     "output_type": "execute_result"
    }
   ],
   "source": [
    "df.columns"
   ]
  },
  {
   "cell_type": "markdown",
   "metadata": {},
   "source": [
    "### Machine Learning"
   ]
  },
  {
   "cell_type": "code",
   "execution_count": 8,
   "metadata": {
    "colab": {},
    "colab_type": "code",
    "id": "4UT40nktFDs8"
   },
   "outputs": [
    {
     "name": "stderr",
     "output_type": "stream",
     "text": [
      "C:\\Users\\praga\\Miniconda3\\lib\\site-packages\\sklearn\\ensemble\\weight_boosting.py:29: DeprecationWarning: numpy.core.umath_tests is an internal NumPy module and should not be imported. It will be removed in a future NumPy release.\n",
      "  from numpy.core.umath_tests import inner1d\n"
     ]
    }
   ],
   "source": [
    "#importing required modules\n",
    "from sklearn.model_selection import train_test_split, GridSearchCV\n",
    "from sklearn.linear_model import LogisticRegression\n",
    "from sklearn.metrics import classification_report\n",
    "from sklearn.ensemble import RandomForestClassifier\n",
    "from sklearn.metrics import confusion_matrix\n",
    "import itertools\n",
    "from sklearn.model_selection import learning_curve\n",
    "from sklearn.model_selection import ShuffleSplit\n",
    "import regex as re"
   ]
  },
  {
   "cell_type": "code",
   "execution_count": 9,
   "metadata": {
    "colab": {
     "base_uri": "https://localhost:8080/",
     "height": 34
    },
    "colab_type": "code",
    "id": "49ctmGpvFDtD",
    "outputId": "4b4084a7-8ab3-43e3-93b2-9078834b3347"
   },
   "outputs": [
    {
     "data": {
      "text/plain": [
       "((20426, 19), (10062, 19))"
      ]
     },
     "execution_count": 9,
     "metadata": {},
     "output_type": "execute_result"
    }
   ],
   "source": [
    "# train test split the data\n",
    "y=df['y']\n",
    "X_train, X_test, y_train, y_test = train_test_split(df.drop('y',axis=1), y, test_size=0.33, random_state=40,stratify=y)  # we use stratify so that equal % of both classes are present in train and test.\n",
    "X_train.shape,X_test.shape  "
   ]
  },
  {
   "cell_type": "code",
   "execution_count": 10,
   "metadata": {
    "colab": {
     "base_uri": "https://localhost:8080/",
     "height": 70
    },
    "colab_type": "code",
    "id": "yTInUO6_FDtT",
    "outputId": "c6bc81da-78e5-45db-c010-1124e7e439a7"
   },
   "outputs": [
    {
     "data": {
      "text/plain": [
       "0    0.873446\n",
       "1    0.126554\n",
       "Name: y, dtype: float64"
      ]
     },
     "execution_count": 10,
     "metadata": {},
     "output_type": "execute_result"
    }
   ],
   "source": [
    "y_train.value_counts()/y_train.shape[0] # equal % of both classes are present in train and test."
   ]
  },
  {
   "cell_type": "code",
   "execution_count": 11,
   "metadata": {
    "colab": {
     "base_uri": "https://localhost:8080/",
     "height": 70
    },
    "colab_type": "code",
    "id": "IMgeLYmOO9KS",
    "outputId": "9771b894-3be0-4dca-aa58-da4cdc880cc8"
   },
   "outputs": [
    {
     "data": {
      "text/plain": [
       "0    0.873385\n",
       "1    0.126615\n",
       "Name: y, dtype: float64"
      ]
     },
     "execution_count": 11,
     "metadata": {},
     "output_type": "execute_result"
    }
   ],
   "source": [
    "y_test.value_counts()/y_test.shape[0]# equal % of both classes are present in train and test."
   ]
  },
  {
   "cell_type": "code",
   "execution_count": 12,
   "metadata": {
    "colab": {},
    "colab_type": "code",
    "collapsed": true,
    "id": "W3TOHyr1Pdhz"
   },
   "outputs": [],
   "source": [
    "# to plot confusion matrix\n",
    "def plot_confusion_matrix(cm, classes,normalize=False,title='Confusion matrix',cmap=plt.cm.Blues):\n",
    "    plt.imshow(cm, interpolation='nearest', cmap=cmap)\n",
    "    plt.title(title)\n",
    "    plt.colorbar()\n",
    "    tick_marks = np.arange(len(classes))\n",
    "    plt.xticks(tick_marks, classes, rotation=45)\n",
    "    plt.yticks(tick_marks, classes)\n",
    "\n",
    "    fmt = '.2f' if normalize else 'd'\n",
    "    thresh = cm.max() / 2.\n",
    "    for i, j in itertools.product(range(cm.shape[0]), range(cm.shape[1])):\n",
    "        plt.text(j, i, format(cm[i, j], fmt),horizontalalignment=\"center\", color=\"white\" if cm[i, j] > thresh else \"black\")\n",
    "    plt.tight_layout()\n",
    "    plt.ylabel('True label')\n",
    "    plt.xlabel('Predicted label')\n",
    "    plt.show()    \n",
    "class_names=[0,1]"
   ]
  },
  {
   "cell_type": "code",
   "execution_count": 13,
   "metadata": {
    "collapsed": true
   },
   "outputs": [],
   "source": [
    "from collections import defaultdict\n",
    "def report2dict(cr):\n",
    "    # Parse rows\n",
    "    tmp = list()\n",
    "    for row in cr.split(\"\\n\"):\n",
    "        parsed_row = [x for x in row.split(\"  \") if len(x) > 0]\n",
    "        if len(parsed_row) > 0:\n",
    "            tmp.append(parsed_row)\n",
    "     # Store in dictionary\n",
    "    measures = tmp[0]\n",
    "    D_class_data = defaultdict(dict)\n",
    "    for row in tmp[1:]:\n",
    "        class_label = row[0]\n",
    "        for j, m in enumerate(measures):\n",
    "            D_class_data[class_label][m.strip()] = float(row[j + 1].strip())\n",
    "    return D_class_data"
   ]
  },
  {
   "cell_type": "code",
   "execution_count": 14,
   "metadata": {
    "colab": {},
    "colab_type": "code",
    "collapsed": true,
    "id": "S_wLGuUzPXr7"
   },
   "outputs": [],
   "source": [
    "# learning curve\n",
    "def plot_learning_curve(estimator, title, X, y, ylim=None, cv=None,\n",
    "                        n_jobs=None, train_sizes=np.linspace(.1, 1.0, 5)):\n",
    "    plt.figure()\n",
    "    plt.title(title)\n",
    "    if ylim is not None:\n",
    "        plt.ylim(*ylim)\n",
    "    plt.xlabel(\"Training examples\")\n",
    "    plt.ylabel(\"Score\")\n",
    "    train_sizes, train_scores, test_scores = learning_curve(\n",
    "        estimator, X, y, cv=cv, n_jobs=n_jobs, train_sizes=train_sizes)\n",
    "    train_scores_mean = np.mean(train_scores, axis=1)\n",
    "    train_scores_std = np.std(train_scores, axis=1)\n",
    "    test_scores_mean = np.mean(test_scores, axis=1)\n",
    "    test_scores_std = np.std(test_scores, axis=1)\n",
    "    plt.grid()\n",
    "\n",
    "    plt.fill_between(train_sizes, train_scores_mean - train_scores_std,\n",
    "                     train_scores_mean + train_scores_std, alpha=0.1,\n",
    "                     color=\"r\")\n",
    "    plt.fill_between(train_sizes, test_scores_mean - test_scores_std,\n",
    "                     test_scores_mean + test_scores_std, alpha=0.1, color=\"g\")\n",
    "    plt.plot(train_sizes, train_scores_mean, 'o-', color=\"r\",\n",
    "             label=\"Training score\")\n",
    "    plt.plot(train_sizes, test_scores_mean, 'o-', color=\"g\",\n",
    "             label=\"Cross-validation score\")\n",
    "\n",
    "    plt.legend(loc=\"best\")\n",
    "    return plt"
   ]
  },
  {
   "cell_type": "markdown",
   "metadata": {
    "colab_type": "text",
    "id": "35eO87LvisxH"
   },
   "source": [
    "### Model 1 - Random Forest"
   ]
  },
  {
   "cell_type": "markdown",
   "metadata": {
    "colab_type": "text",
    "id": "3slkpnH2P50f"
   },
   "source": [
    "Since we have an imbalanced dataset with respect to target variable, we need to assign weights to the class with lower number of records."
   ]
  },
  {
   "cell_type": "code",
   "execution_count": 68,
   "metadata": {
    "colab": {},
    "colab_type": "code",
    "collapsed": true,
    "id": "_e9zo1xGO9TV"
   },
   "outputs": [],
   "source": [
    "# iterate over different weight values for class 1 to find best weight\n",
    "weight_1={}\n",
    "\n",
    "for i in np.arange(4.5,6.5,0.2):\n",
    "    class_weight={0:1,1:i}\n",
    "    params = {'n_estimators':range(140,190,10),'max_depth':[1,2],'min_samples_split':[0.4]} # grid search params for random forest\n",
    "    rfc=RandomForestClassifier(random_state=42,class_weight=class_weight)\n",
    "    rfc_grid = GridSearchCV(rfc,param_grid=params,cv=2)\n",
    "    rfc_grid.fit(X_train,y_train) # fit the model\n",
    "    rfc=rfc_grid.best_estimator_ # assign best model to rfc\n",
    "    rand_pred=rfc.predict(X_test) # predict on test set\n",
    "    report=report2dict(classification_report(y_test, rand_pred))\n",
    "    weight_1[i]=report['1']['f1-score']#append score in dictionary to the corresponding weight value  "
   ]
  },
  {
   "cell_type": "code",
   "execution_count": 69,
   "metadata": {
    "colab": {
     "base_uri": "https://localhost:8080/",
     "height": 397
    },
    "colab_type": "code",
    "id": "cWKE9FlUO9Z0",
    "outputId": "0d8abe93-9535-4ae0-d44e-b1cb4a40df26"
   },
   "outputs": [
    {
     "data": {
      "image/png": "[encoded data removed]",
      "text/plain": [
       "<matplotlib.figure.Figure at 0x14e8dbedc50>"
      ]
     },
     "metadata": {},
     "output_type": "display_data"
    }
   ],
   "source": [
    "# scatter plot to visualize weight vs score change\n",
    "plt.scatter(weight_1.keys(),weight_1.values())\n",
    "plt.title('Weights Vs F1 Score',size=15)\n",
    "plt.xlabel('Weights',size=12)\n",
    "plt.ylabel('F1 Score',size=12)\n",
    "plt.legend()\n",
    "plt.show()"
   ]
  },
  {
   "cell_type": "code",
   "execution_count": 70,
   "metadata": {
    "colab": {
     "base_uri": "https://localhost:8080/",
     "height": 34
    },
    "colab_type": "code",
    "id": "fxa0NK52ud6X",
    "outputId": "2e402272-f6f5-4fbb-ba59-6a45e21fae92"
   },
   "outputs": [
    {
     "name": "stdout",
     "output_type": "stream",
     "text": [
      "6.300000000000002\n"
     ]
    }
   ],
   "source": [
    "maxs=max(weight_1.values()) # maximum score value\n",
    "for kval in weight_1.keys():\n",
    "    if maxs==weight_1[kval]:\n",
    "        kmax=kval\n",
    "print(kmax) # optimum weight value "
   ]
  },
  {
   "cell_type": "markdown",
   "metadata": {
    "colab_type": "text",
    "id": "XAZ47G32QJYe"
   },
   "source": [
    "We are getting maximum accuracy at class weight of 2 for class 1."
   ]
  },
  {
   "cell_type": "code",
   "execution_count": 71,
   "metadata": {
    "colab": {},
    "colab_type": "code",
    "collapsed": true,
    "id": "4sYhtHvaPxK9"
   },
   "outputs": [],
   "source": [
    "# grid search for tuning hyper parameters\n",
    "class_weight={0:1,1:kmax} # use maxium weight value\n",
    "params = {'n_estimators':range(140,190,10),'max_depth':[1,2],'min_samples_split':[0.4]}\n",
    "rfc=RandomForestClassifier(random_state=42,class_weight=class_weight)\n",
    "rfc_grid = GridSearchCV(rfc,param_grid=params,cv=5)\n",
    "rfc_grid.fit(X_train,y_train)\n",
    "rfc=rfc_grid.best_estimator_ # assign best model to rfc"
   ]
  },
  {
   "cell_type": "code",
   "execution_count": 94,
   "metadata": {},
   "outputs": [
    {
     "data": {
      "text/plain": [
       "RandomForestClassifier(bootstrap=True,\n",
       "            class_weight={0: 1, 1: 5.900000000000001}, criterion='gini',\n",
       "            max_depth=1, max_features='auto', max_leaf_nodes=None,\n",
       "            min_impurity_decrease=0.0, min_impurity_split=None,\n",
       "            min_samples_leaf=1, min_samples_split=0.4,\n",
       "            min_weight_fraction_leaf=0.0, n_estimators=170, n_jobs=1,\n",
       "            oob_score=False, random_state=42, verbose=0, warm_start=False)"
      ]
     },
     "execution_count": 94,
     "metadata": {},
     "output_type": "execute_result"
    }
   ],
   "source": [
    "rfc=RandomForestClassifier(bootstrap=True,\n",
    "            class_weight={0: 1, 1: 5.900000000000001}, criterion='gini',\n",
    "            max_depth=1, max_features='auto', max_leaf_nodes=None,\n",
    "            min_impurity_decrease=0.0, min_impurity_split=None,\n",
    "            min_samples_leaf=1, min_samples_split=0.4,\n",
    "            min_weight_fraction_leaf=0.0, n_estimators=170, n_jobs=1,\n",
    "            oob_score=False, random_state=42, verbose=0, warm_start=False)\n",
    "rfc.fit(X_train,y_train)"
   ]
  },
  {
   "cell_type": "code",
   "execution_count": 72,
   "metadata": {
    "colab": {
     "base_uri": "https://localhost:8080/",
     "height": 140
    },
    "colab_type": "code",
    "id": "tgftHleCawbw",
    "outputId": "998645c0-fb8a-43df-fcef-d5ee3ef51823"
   },
   "outputs": [
    {
     "data": {
      "text/plain": [
       "RandomForestClassifier(bootstrap=True,\n",
       "            class_weight={0: 1, 1: 5.900000000000001}, criterion='gini',\n",
       "            max_depth=1, max_features='auto', max_leaf_nodes=None,\n",
       "            min_impurity_decrease=0.0, min_impurity_split=None,\n",
       "            min_samples_leaf=1, min_samples_split=0.4,\n",
       "            min_weight_fraction_leaf=0.0, n_estimators=170, n_jobs=1,\n",
       "            oob_score=False, random_state=42, verbose=0, warm_start=False)"
      ]
     },
     "execution_count": 72,
     "metadata": {},
     "output_type": "execute_result"
    }
   ],
   "source": [
    "rfc # to see model hyper parameters"
   ]
  },
  {
   "cell_type": "code",
   "execution_count": 101,
   "metadata": {
    "colab": {
     "base_uri": "https://localhost:8080/",
     "height": 140
    },
    "colab_type": "code",
    "id": "ArDdW7oXrAar",
    "outputId": "ebd9a525-0d82-454c-b485-36d4396fcd7e"
   },
   "outputs": [
    {
     "name": "stdout",
     "output_type": "stream",
     "text": [
      "             precision    recall  f1-score   support\n",
      "\n",
      "          0       0.93      0.89      0.91      8788\n",
      "          1       0.43      0.55      0.48      1274\n",
      "\n",
      "avg / total       0.87      0.85      0.86     10062\n",
      "\n"
     ]
    }
   ],
   "source": [
    "rand_pred=rfc.predict(X_test) # predict on test set\n",
    "print(classification_report(y_test, rand_pred)) # classification report"
   ]
  },
  {
   "cell_type": "code",
   "execution_count": 74,
   "metadata": {
    "colab": {
     "base_uri": "https://localhost:8080/",
     "height": 415
    },
    "colab_type": "code",
    "id": "NGnEhIvy8EJw",
    "outputId": "59dde0e2-bd51-4f43-c9ba-683bf65bed03"
   },
   "outputs": [
    {
     "data": {
      "image/png": "[encoded data removed]",
      "text/plain": [
       "<matplotlib.figure.Figure at 0x14e8dd26d30>"
      ]
     },
     "metadata": {},
     "output_type": "display_data"
    }
   ],
   "source": [
    "#confusion matrix\n",
    "cnf_matrix = confusion_matrix(y_test, rand_pred)\n",
    "plot_confusion_matrix(cnf_matrix, classes=class_names,title='Rf Confusion Matrix')"
   ]
  },
  {
   "cell_type": "code",
   "execution_count": 75,
   "metadata": {
    "colab": {
     "base_uri": "https://localhost:8080/",
     "height": 379
    },
    "colab_type": "code",
    "id": "_4RdoN6MO9Qi",
    "outputId": "2fbf9a01-054d-471e-bc98-4b0021f26032"
   },
   "outputs": [
    {
     "data": {
      "image/png": "[encoded data removed]",
      "text/plain": [
       "<matplotlib.figure.Figure at 0x14e91dca828>"
      ]
     },
     "metadata": {},
     "output_type": "display_data"
    }
   ],
   "source": [
    "(pd.Series(rfc.feature_importances_, index=X_train.columns)\n",
    "   .nlargest(10)\n",
    "   .plot(kind='barh'))\n",
    "plt.title('Feature Importance') # top 10 features\n",
    "plt.show()"
   ]
  },
  {
   "cell_type": "code",
   "execution_count": 78,
   "metadata": {
    "colab": {
     "base_uri": "https://localhost:8080/",
     "height": 376
    },
    "colab_type": "code",
    "id": "unS5pfQoPXqH",
    "outputId": "cf4ea4e4-e99f-4f59-a5bc-0a5f0c44d62f"
   },
   "outputs": [
    {
     "data": {
      "image/png": "[encoded data removed]",
      "text/plain": [
       "<matplotlib.figure.Figure at 0x14e8dc91dd8>"
      ]
     },
     "metadata": {},
     "output_type": "display_data"
    }
   ],
   "source": [
    "# plot learning curve\n",
    "cv = ShuffleSplit(n_splits=5, test_size=0.33, random_state=0)\n",
    "estimator = rfc\n",
    "title = \"Learning Curves (RFC)\"\n",
    "plot_learning_curve(estimator, title, df.drop('y',axis=1), y, (.7,1), cv, n_jobs=4)\n",
    "plt.show()"
   ]
  },
  {
   "cell_type": "markdown",
   "metadata": {
    "colab_type": "text",
    "id": "PjgTwLtNi9pp"
   },
   "source": [
    "### Model 2 - Logistic Regression"
   ]
  },
  {
   "cell_type": "markdown",
   "metadata": {
    "colab_type": "text",
    "id": "Sa_dxEBApVJV"
   },
   "source": [
    "We apply the same method as we did before for logistic regression too."
   ]
  },
  {
   "cell_type": "code",
   "execution_count": 101,
   "metadata": {
    "colab": {},
    "colab_type": "code",
    "collapsed": true,
    "id": "IS-wsDiFmU5k"
   },
   "outputs": [],
   "source": [
    "weight_1={}\n",
    "for i in np.arange(2.3,3.8,0.1):\n",
    "  class_weight={0:1,1:i}\n",
    "  params = {'C':[0.01,.1,5,1,10],'max_iter':[150,125,100]} # grid search params\n",
    "  log=LogisticRegression(class_weight=class_weight)\n",
    "  log_grid = GridSearchCV(log,param_grid=params,cv=5)\n",
    "  log_grid.fit(X_train,y_train)\n",
    "  log=log_grid.best_estimator_\n",
    "  log_pred=log.predict(X_test) # predict on test set\n",
    "  report=report2dict(classification_report(y_test, log_pred))\n",
    "  weight_1[i]=report['1']['f1-score'] # store scores corresponding to weight"
   ]
  },
  {
   "cell_type": "code",
   "execution_count": 102,
   "metadata": {
    "colab": {
     "base_uri": "https://localhost:8080/",
     "height": 397
    },
    "colab_type": "code",
    "id": "ntsZ5GcReMrb",
    "outputId": "180f6f70-c585-4b9d-feb9-2e0511051087"
   },
   "outputs": [
    {
     "data": {
      "image/png": "[encoded data removed]",
      "text/plain": [
       "<matplotlib.figure.Figure at 0x14e931aa438>"
      ]
     },
     "metadata": {},
     "output_type": "display_data"
    }
   ],
   "source": [
    "# plot scores vs weight change\n",
    "plt.scatter(weight_1.keys(),weight_1.values())\n",
    "plt.title('Weights Vs F1 Score',size=15)\n",
    "plt.xlabel('Weights for Class 1',size=12)\n",
    "plt.ylabel('F1 Score',size=12)\n",
    "plt.ylabel('Score',size=12)\n",
    "plt.show()"
   ]
  },
  {
   "cell_type": "code",
   "execution_count": 103,
   "metadata": {
    "colab": {
     "base_uri": "https://localhost:8080/",
     "height": 34
    },
    "colab_type": "code",
    "id": "v-e1YUQXqH-j",
    "outputId": "2d76ec3b-2f3d-46ae-928b-ed0b41cf472b"
   },
   "outputs": [
    {
     "name": "stdout",
     "output_type": "stream",
     "text": [
      "3.700000000000001\n"
     ]
    }
   ],
   "source": [
    "maxs=max(weight_1.values()) # maximum score value\n",
    "for kval in weight_1.keys():\n",
    "    if maxs==weight_1[kval]:\n",
    "        kmax=kval\n",
    "print(kmax) # optimum weight value "
   ]
  },
  {
   "cell_type": "code",
   "execution_count": 104,
   "metadata": {
    "colab": {},
    "colab_type": "code",
    "collapsed": true,
    "id": "RrbxvQ1keMpK"
   },
   "outputs": [],
   "source": [
    "class_weight={0:1,1:kmax} # use best weight value\n",
    "params = {'C':[0.01,.1,5,1,10],'max_iter':[150,125,100]} # grid search hyper parameters\n",
    "log=LogisticRegression(class_weight=class_weight)\n",
    "log_grid = GridSearchCV(log,param_grid=params,cv=10)\n",
    "log_grid.fit(X_train,y_train) # fit on train data\n",
    "log=log_grid.best_estimator_ # best estimator"
   ]
  },
  {
   "cell_type": "code",
   "execution_count": 88,
   "metadata": {
    "collapsed": true
   },
   "outputs": [],
   "source": [
    "log=LogisticRegression(C=0.01, class_weight={0: 1, 1: 3.500000000000001},\n",
    "          dual=False, fit_intercept=True, intercept_scaling=1,\n",
    "          max_iter=150, multi_class='ovr', n_jobs=1, penalty='l2',\n",
    "          random_state=None, solver='liblinear', tol=0.0001, verbose=0,\n",
    "          warm_start=False)"
   ]
  },
  {
   "cell_type": "code",
   "execution_count": 95,
   "metadata": {
    "colab": {
     "base_uri": "https://localhost:8080/",
     "height": 87
    },
    "colab_type": "code",
    "id": "Tsn8M9Rjm4tu",
    "outputId": "5162d9b7-fd75-4b78-ab8d-e9733735c936"
   },
   "outputs": [
    {
     "data": {
      "text/plain": [
       "LogisticRegression(C=0.01, class_weight={0: 1, 1: 3.500000000000001},\n",
       "          dual=False, fit_intercept=True, intercept_scaling=1,\n",
       "          max_iter=150, multi_class='ovr', n_jobs=1, penalty='l2',\n",
       "          random_state=None, solver='liblinear', tol=0.0001, verbose=0,\n",
       "          warm_start=False)"
      ]
     },
     "execution_count": 95,
     "metadata": {},
     "output_type": "execute_result"
    }
   ],
   "source": [
    "log.fit(X_train,y_train) # hyper parameter values"
   ]
  },
  {
   "cell_type": "code",
   "execution_count": 102,
   "metadata": {
    "colab": {
     "base_uri": "https://localhost:8080/",
     "height": 140
    },
    "colab_type": "code",
    "id": "rkSUh8vDqkTo",
    "outputId": "b03f12a7-d689-4fee-e3d3-a0d1d28ca345"
   },
   "outputs": [
    {
     "name": "stdout",
     "output_type": "stream",
     "text": [
      "             precision    recall  f1-score   support\n",
      "\n",
      "          0       0.93      0.89      0.91      8788\n",
      "          1       0.42      0.57      0.49      1274\n",
      "\n",
      "avg / total       0.87      0.85      0.86     10062\n",
      "\n"
     ]
    }
   ],
   "source": [
    "log_pred=log.predict(X_test) # predict on test data\n",
    "print(classification_report(y_test, log_pred))"
   ]
  },
  {
   "cell_type": "code",
   "execution_count": 107,
   "metadata": {
    "colab": {
     "base_uri": "https://localhost:8080/",
     "height": 415
    },
    "colab_type": "code",
    "id": "pmWOcVyTm4rZ",
    "outputId": "3c7b73cc-cb7a-4a29-fe1c-65bc8a277b91"
   },
   "outputs": [
    {
     "data": {
      "image/png": "[encoded data removed]",
      "text/plain": [
       "<matplotlib.figure.Figure at 0x14e8c3b1dd8>"
      ]
     },
     "metadata": {},
     "output_type": "display_data"
    }
   ],
   "source": [
    "cnf_matrix = confusion_matrix(y_test, log_pred) # confusion matrix\n",
    "plot_confusion_matrix(cnf_matrix, classes=class_names, normalize=False,title='Log Confusion Matrix')"
   ]
  },
  {
   "cell_type": "code",
   "execution_count": 108,
   "metadata": {
    "colab": {
     "base_uri": "https://localhost:8080/",
     "height": 379
    },
    "colab_type": "code",
    "id": "k_XoLwNcU1l1",
    "outputId": "ab1133d0-bdc2-49fd-c256-a8e0642f19b3"
   },
   "outputs": [
    {
     "data": {
      "image/png": "[encoded data removed]",
      "text/plain": [
       "<matplotlib.figure.Figure at 0x14e8c391400>"
      ]
     },
     "metadata": {},
     "output_type": "display_data"
    }
   ],
   "source": [
    "# feature importance plot\n",
    "coefs = np.abs(log.coef_[0]) # coefficients of variables\n",
    "indices = np.argsort(coefs)[::-1]\n",
    "plt.title(\"Feature importances (Logistic Regression)\")\n",
    "plt.yticks(range(10), X_train.columns[indices[:10]], ha='right')\n",
    "plt.barh(range(10), coefs[indices[:10]],align=\"center\")\n",
    "plt.show()"
   ]
  },
  {
   "cell_type": "code",
   "execution_count": 109,
   "metadata": {
    "colab": {
     "base_uri": "https://localhost:8080/",
     "height": 376
    },
    "colab_type": "code",
    "id": "OQzoHDNBqz9p",
    "outputId": "1d948846-c6fc-45ed-9df0-6aa4cff35346"
   },
   "outputs": [
    {
     "data": {
      "image/png": "[encoded data removed]",
      "text/plain": [
       "<matplotlib.figure.Figure at 0x14e8bac7f28>"
      ]
     },
     "metadata": {},
     "output_type": "display_data"
    }
   ],
   "source": [
    "# learning curve\n",
    "cv = ShuffleSplit(n_splits=5, test_size=0.33, random_state=0)\n",
    "estimator = log\n",
    "title = \"Learning Curves (LOG)\"\n",
    "plot_learning_curve(estimator, title,  df.drop('y',axis=1), y, (.7,1.1), cv, n_jobs=4)\n",
    "plt.show()"
   ]
  },
  {
   "cell_type": "markdown",
   "metadata": {},
   "source": [
    "### Model 3 - Xgboost\n"
   ]
  },
  {
   "cell_type": "code",
   "execution_count": 21,
   "metadata": {
    "collapsed": true
   },
   "outputs": [],
   "source": [
    "params = {'min_child_weight': [3,5], 'n_estimators':range(200,250,10),'max_depth': [3,6]}"
   ]
  },
  {
   "cell_type": "code",
   "execution_count": 24,
   "metadata": {},
   "outputs": [
    {
     "name": "stderr",
     "output_type": "stream",
     "text": [
      "C:\\Users\\praga\\Miniconda3\\lib\\site-packages\\sklearn\\preprocessing\\label.py:151: DeprecationWarning: The truth value of an empty array is ambiguous. Returning False, but in future this will result in an error. Use `array.size > 0` to check that an array is not empty.\n",
      "  if diff:\n",
      "C:\\Users\\praga\\Miniconda3\\lib\\site-packages\\sklearn\\preprocessing\\label.py:151: DeprecationWarning: The truth value of an empty array is ambiguous. Returning False, but in future this will result in an error. Use `array.size > 0` to check that an array is not empty.\n",
      "  if diff:\n",
      "C:\\Users\\praga\\Miniconda3\\lib\\site-packages\\sklearn\\preprocessing\\label.py:151: DeprecationWarning: The truth value of an empty array is ambiguous. Returning False, but in future this will result in an error. Use `array.size > 0` to check that an array is not empty.\n",
      "  if diff:\n",
      "C:\\Users\\praga\\Miniconda3\\lib\\site-packages\\sklearn\\preprocessing\\label.py:151: DeprecationWarning: The truth value of an empty array is ambiguous. Returning False, but in future this will result in an error. Use `array.size > 0` to check that an array is not empty.\n",
      "  if diff:\n",
      "C:\\Users\\praga\\Miniconda3\\lib\\site-packages\\sklearn\\preprocessing\\label.py:151: DeprecationWarning: The truth value of an empty array is ambiguous. Returning False, but in future this will result in an error. Use `array.size > 0` to check that an array is not empty.\n",
      "  if diff:\n",
      "C:\\Users\\praga\\Miniconda3\\lib\\site-packages\\sklearn\\preprocessing\\label.py:151: DeprecationWarning: The truth value of an empty array is ambiguous. Returning False, but in future this will result in an error. Use `array.size > 0` to check that an array is not empty.\n",
      "  if diff:\n",
      "C:\\Users\\praga\\Miniconda3\\lib\\site-packages\\sklearn\\preprocessing\\label.py:151: DeprecationWarning: The truth value of an empty array is ambiguous. Returning False, but in future this will result in an error. Use `array.size > 0` to check that an array is not empty.\n",
      "  if diff:\n",
      "C:\\Users\\praga\\Miniconda3\\lib\\site-packages\\sklearn\\preprocessing\\label.py:151: DeprecationWarning: The truth value of an empty array is ambiguous. Returning False, but in future this will result in an error. Use `array.size > 0` to check that an array is not empty.\n",
      "  if diff:\n"
     ]
    }
   ],
   "source": [
    "weight_1={}\n",
    "w_array = np.array([1]*y_train.shape[0])\n",
    "for i in np.arange(3.8,6,0.3):\n",
    "  w_array[y_train==1] = i\n",
    "  w_array[y_train==0] = 1\n",
    "  xgb = XGBClassifier()\n",
    "  xgb_grid = GridSearchCV(estimator=xgb, param_grid=params, scoring='roc_auc', n_jobs=4, cv=5)\n",
    "  xgb_grid.fit(X_train, y_train, sample_weight=w_array)\n",
    "  xgb=xgb_grid.best_estimator_\n",
    "  xgb_pred=xgb.predict(X_test) # predict on test set\n",
    "  report=report2dict(classification_report(y_test, xgb_pred))\n",
    "  weight_1[i]=report['1']['f1-score'] # store scores corresponding to weight "
   ]
  },
  {
   "cell_type": "code",
   "execution_count": 25,
   "metadata": {},
   "outputs": [
    {
     "data": {
      "image/png": "[encoded data removed]",
      "text/plain": [
       "<matplotlib.figure.Figure at 0x18676a9de10>"
      ]
     },
     "metadata": {},
     "output_type": "display_data"
    }
   ],
   "source": [
    "# plot scores vs weight change\n",
    "plt.scatter(weight_1.keys(),weight_1.values())\n",
    "plt.title('Weights Vs F1 Score',size=15)\n",
    "plt.xlabel('Weights for Class 1',size=12)\n",
    "plt.ylabel('F1 Score',size=12)\n",
    "plt.ylabel('Score',size=12)\n",
    "plt.show()"
   ]
  },
  {
   "cell_type": "code",
   "execution_count": 29,
   "metadata": {},
   "outputs": [
    {
     "name": "stdout",
     "output_type": "stream",
     "text": [
      "4.999999999999999\n"
     ]
    }
   ],
   "source": [
    "maxs=max(weight_1.values()) # maximum score value\n",
    "for kval in weight_1.keys():\n",
    "    if maxs==weight_1[kval]:\n",
    "        kmax=kval\n",
    "print(kmax) # optimum weight value "
   ]
  },
  {
   "cell_type": "code",
   "execution_count": 30,
   "metadata": {},
   "outputs": [
    {
     "name": "stderr",
     "output_type": "stream",
     "text": [
      "C:\\Users\\praga\\Miniconda3\\lib\\site-packages\\sklearn\\preprocessing\\label.py:151: DeprecationWarning: The truth value of an empty array is ambiguous. Returning False, but in future this will result in an error. Use `array.size > 0` to check that an array is not empty.\n",
      "  if diff:\n"
     ]
    }
   ],
   "source": [
    "w_array = np.array([1]*y_train.shape[0])\n",
    "w_array[y_train==1] = kmax\n",
    "w_array[y_train==0] = 1\n",
    "params = {'min_child_weight': [3,5], 'n_estimators':range(200,250,10),'max_depth': [3,6]} # grid search hyper parameters\n",
    "xgb = XGBClassifier()\n",
    "xgb_grid = GridSearchCV(estimator=xgb, param_grid=params, scoring='roc_auc', n_jobs=4, cv=5)\n",
    "xgb_grid.fit(X_train, y_train, sample_weight=w_array)\n",
    "xgb=xgb_grid.best_estimator_\n",
    "xgb_pred=xgb.predict(X_test) # predict on test data"
   ]
  },
  {
   "cell_type": "code",
   "execution_count": 89,
   "metadata": {},
   "outputs": [
    {
     "data": {
      "text/plain": [
       "XGBClassifier(base_score=0.5, booster='gbtree', colsample_bylevel=1,\n",
       "       colsample_bytree=1, gamma=0, learning_rate=0.1, max_delta_step=0,\n",
       "       max_depth=3, min_child_weight=5, missing=None, n_estimators=200,\n",
       "       n_jobs=1, nthread=None, objective='binary:logistic', random_state=0,\n",
       "       reg_alpha=0, reg_lambda=1, scale_pos_weight=1, seed=None,\n",
       "       silent=True, subsample=1)"
      ]
     },
     "execution_count": 89,
     "metadata": {},
     "output_type": "execute_result"
    }
   ],
   "source": [
    "xgb"
   ]
  },
  {
   "cell_type": "code",
   "execution_count": 32,
   "metadata": {},
   "outputs": [
    {
     "name": "stdout",
     "output_type": "stream",
     "text": [
      "             precision    recall  f1-score   support\n",
      "\n",
      "          0       0.94      0.89      0.91      8788\n",
      "          1       0.45      0.62      0.52      1274\n",
      "\n",
      "avg / total       0.88      0.85      0.86     10062\n",
      "\n"
     ]
    }
   ],
   "source": [
    "print(classification_report(y_test, xgb_pred))"
   ]
  },
  {
   "cell_type": "code",
   "execution_count": 33,
   "metadata": {},
   "outputs": [
    {
     "data": {
      "image/png": "[encoded data removed]",
      "text/plain": [
       "<matplotlib.figure.Figure at 0x186773681d0>"
      ]
     },
     "metadata": {},
     "output_type": "display_data"
    }
   ],
   "source": [
    "cnf_matrix = confusion_matrix(y_test, xgb_pred) # confusion matrix\n",
    "plot_confusion_matrix(cnf_matrix, classes=class_names, normalize=False,title='Log Confusion Matrix')"
   ]
  },
  {
   "cell_type": "code",
   "execution_count": 38,
   "metadata": {},
   "outputs": [
    {
     "data": {
      "image/png": "[encoded data removed]",
      "text/plain": [
       "<matplotlib.figure.Figure at 0x18676f66c88>"
      ]
     },
     "metadata": {},
     "output_type": "display_data"
    }
   ],
   "source": [
    "# plot feature importance\n",
    "plot_importance(xgb)\n",
    "plt.show()"
   ]
  },
  {
   "cell_type": "code",
   "execution_count": 36,
   "metadata": {},
   "outputs": [
    {
     "data": {
      "image/png": "[encoded data removed]",
      "text/plain": [
       "<matplotlib.figure.Figure at 0x18676fb04e0>"
      ]
     },
     "metadata": {},
     "output_type": "display_data"
    }
   ],
   "source": [
    "# learning curve\n",
    "cv = ShuffleSplit(n_splits=10, test_size=0.33, random_state=0)\n",
    "estimator = xgb\n",
    "title = \"Learning Curves (LOG)\"\n",
    "plot_learning_curve(estimator, title,  df.drop('y',axis=1), y, (.7,1), cv, n_jobs=4)\n",
    "plt.show()"
   ]
  },
  {
   "cell_type": "markdown",
   "metadata": {
    "colab_type": "text",
    "id": "UzwCqzY1tAYC"
   },
   "source": [
    "### Model 4 -  Deep Learning"
   ]
  },
  {
   "cell_type": "markdown",
   "metadata": {
    "colab_type": "text",
    "id": "FdLgiz2YryZP"
   },
   "source": [
    "Lets see if deep learning model(neural network) can produce better results."
   ]
  },
  {
   "cell_type": "code",
   "execution_count": 39,
   "metadata": {
    "colab": {
     "base_uri": "https://localhost:8080/",
     "height": 34
    },
    "colab_type": "code",
    "id": "eYEfJm-fqzxN",
    "outputId": "214db0de-662c-4b12-c1a1-0ac735296c5a"
   },
   "outputs": [
    {
     "name": "stderr",
     "output_type": "stream",
     "text": [
      "C:\\Users\\praga\\Miniconda3\\lib\\site-packages\\h5py\\__init__.py:34: FutureWarning: Conversion of the second argument of issubdtype from `float` to `np.floating` is deprecated. In future, it will be treated as `np.float64 == np.dtype(float).type`.\n",
      "  from ._conv import register_converters as _register_converters\n",
      "Using TensorFlow backend.\n"
     ]
    }
   ],
   "source": [
    "np.random.seed(5)\n",
    "import keras\n",
    "from keras.models import Sequential\n",
    "from keras.layers import Dense"
   ]
  },
  {
   "cell_type": "code",
   "execution_count": 42,
   "metadata": {
    "colab": {},
    "colab_type": "code",
    "collapsed": true,
    "id": "6S3OYjtZRwXo"
   },
   "outputs": [],
   "source": [
    "classifier = Sequential()\n",
    "# Adding the input layer and the first hidden layer\n",
    "classifier.add(Dense(kernel_initializer=\"uniform\", activation=\"relu\", input_dim=19, units=16))\n",
    "# Adding the second hidden layer\n",
    "classifier.add(Dense(units=8, activation=\"relu\", kernel_initializer=\"uniform\"))\n",
    "# Adding the third hidden layer\n",
    "classifier.add(Dense(units=4, activation=\"relu\", kernel_initializer=\"uniform\"))\n",
    "# Adding the output layer\n",
    "classifier.add(Dense(units=1, activation=\"sigmoid\", kernel_initializer=\"uniform\"))\n",
    "\n",
    "# Compiling Neural Network\n",
    "classifier.compile(optimizer = 'adam', loss = 'binary_crossentropy', metrics = ['accuracy'])"
   ]
  },
  {
   "cell_type": "code",
   "execution_count": 73,
   "metadata": {
    "colab": {
     "base_uri": "https://localhost:8080/",
     "height": 538
    },
    "colab_type": "code",
    "id": "2_k4zjSKpmQ5",
    "outputId": "67149034-edb1-4ede-bf79-0b79b69fb524"
   },
   "outputs": [],
   "source": [
    "weight_1={}\n",
    "for i in np.arange(4,6,0.2):\n",
    "    for j in np.arange(0.35,0.5,0.02):\n",
    "        class_weight={0:1,1:i} # optimum weight value found by trial and error\n",
    "        classifier.fit(X_train, y_train, batch_size = 100, epochs=15,class_weight=class_weight,verbose=0)# Fit the model\n",
    "        dl_pred = classifier.predict(X_test) # predict on test data\n",
    "        dl_pred1 = (dl_pred > j) # convert to 0 and 1\n",
    "        report=report2dict(classification_report(y_test, dl_pred1))\n",
    "        weight_1[(i,j)]=report['1']['f1-score'] \n"
   ]
  },
  {
   "cell_type": "code",
   "execution_count": 78,
   "metadata": {},
   "outputs": [
    {
     "name": "stdout",
     "output_type": "stream",
     "text": [
      "Weight and threshold: (5.200000000000001, 0.4700000000000001) \n",
      "Score: 0.51\n"
     ]
    }
   ],
   "source": [
    "maxs=max(weight_1.values()) # maximum score value\n",
    "for kval in weight_1.keys():\n",
    "    if maxs==weight_1[kval]:\n",
    "        kmax=kval\n",
    "print('Weight and threshold:',kmax,'\\nScore:',weight_1[kmax]) # optimum weight value "
   ]
  },
  {
   "cell_type": "code",
   "execution_count": 84,
   "metadata": {
    "collapsed": true
   },
   "outputs": [],
   "source": [
    "class_weight={0:1,1:kmax[0]}\n",
    "classifier.fit(X_train, y_train, batch_size = 100, epochs =25,class_weight=class_weight,verbose=0)# Fit the model\n",
    "dl_pred = classifier.predict(X_test) # predict on test data\n",
    "dl_pred1 = (dl_pred > kmax[1]) # convert to 0 and 1"
   ]
  },
  {
   "cell_type": "code",
   "execution_count": 91,
   "metadata": {},
   "outputs": [
    {
     "name": "stdout",
     "output_type": "stream",
     "text": [
      "             precision    recall  f1-score   support\n",
      "\n",
      "          0       0.94      0.85      0.89      8788\n",
      "          1       0.38      0.62      0.47      1274\n",
      "\n",
      "avg / total       0.87      0.82      0.84     10062\n",
      "\n"
     ]
    }
   ],
   "source": [
    "print(classification_report(y_test, dl_pred1))"
   ]
  },
  {
   "cell_type": "code",
   "execution_count": 85,
   "metadata": {},
   "outputs": [
    {
     "data": {
      "image/png": "[encoded data removed]",
      "text/plain": [
       "<matplotlib.figure.Figure at 0x1867dba3da0>"
      ]
     },
     "metadata": {},
     "output_type": "display_data"
    }
   ],
   "source": [
    "cnf_matrix = confusion_matrix(y_test, dl_pred1)\n",
    "plot_confusion_matrix(cnf_matrix, classes=class_names, normalize=False,title='DL Confusion Matrix')"
   ]
  },
  {
   "cell_type": "markdown",
   "metadata": {
    "colab_type": "text",
    "id": "GrsYxqcQcCv9"
   },
   "source": [
    "We are getting good results, which is a little bit better than the previous 2 models."
   ]
  },
  {
   "cell_type": "code",
   "execution_count": 90,
   "metadata": {
    "colab": {
     "base_uri": "https://localhost:8080/",
     "height": 752
    },
    "colab_type": "code",
    "id": "0nLBYgm_ogBe",
    "outputId": "23acdea3-7749-48a8-840d-b518c22d3526"
   },
   "outputs": [
    {
     "name": "stdout",
     "output_type": "stream",
     "text": [
      "dict_keys(['val_loss', 'val_acc', 'loss', 'acc'])\n"
     ]
    },
    {
     "data": {
      "image/png": "[encoded data removed]",
      "text/plain": [
       "<matplotlib.figure.Figure at 0x1867dba3f28>"
      ]
     },
     "metadata": {},
     "output_type": "display_data"
    },
    {
     "data": {
      "image/png": "[encoded data removed]",
      "text/plain": [
       "<matplotlib.figure.Figure at 0x18600023b00>"
      ]
     },
     "metadata": {},
     "output_type": "display_data"
    }
   ],
   "source": [
    "# accuracy and loss plot\n",
    "history =classifier.fit(df.drop('y',axis=1), y, validation_split=0.33, batch_size = 100, epochs = 500,class_weight=class_weight,verbose=0)\n",
    "# list all data in history\n",
    "print(history.history.keys())\n",
    "# summarize history for accuracy\n",
    "plt.plot(history.history['acc'])\n",
    "plt.plot(history.history['val_acc'])\n",
    "plt.title('model accuracy')\n",
    "plt.ylabel('accuracy')\n",
    "plt.xlabel('epoch')\n",
    "plt.legend(['train', 'test'], loc='best')\n",
    "plt.show()\n",
    "# summarize history for loss\n",
    "plt.plot(history.history['loss'])\n",
    "plt.plot(history.history['val_loss'])\n",
    "plt.title('model loss')\n",
    "plt.ylabel('loss')\n",
    "plt.xlabel('epoch')\n",
    "plt.legend(['train', 'test'], loc='best')\n",
    "plt.show()"
   ]
  },
  {
   "cell_type": "markdown",
   "metadata": {
    "colab_type": "text",
    "id": "4nZHFNwVsPwm"
   },
   "source": [
    "Since we have an imbalanced dataset, the model is overfitting a bit on training data and not performing as well as it can on test data. This explains the non convergence of train and test loss/accuracy. If we were to get more data, this problem would not occur."
   ]
  },
  {
   "cell_type": "markdown",
   "metadata": {
    "colab_type": "text",
    "id": "WhzNkaTEgMx4"
   },
   "source": [
    "### Combining Models"
   ]
  },
  {
   "cell_type": "markdown",
   "metadata": {
    "colab_type": "text",
    "id": "ujIhWVZLQ-Ku"
   },
   "source": [
    "Lets combine the models and see if we get better results."
   ]
  },
  {
   "cell_type": "code",
   "execution_count": 132,
   "metadata": {
    "colab": {
     "base_uri": "https://localhost:8080/",
     "height": 140
    },
    "colab_type": "code",
    "id": "Mgyo3rmCjPeg",
    "outputId": "732f7bdc-0020-4153-d0c9-1177fa8ef64a"
   },
   "outputs": [
    {
     "name": "stdout",
     "output_type": "stream",
     "text": [
      "             precision    recall  f1-score   support\n",
      "\n",
      "          0       0.93      0.91      0.92      8788\n",
      "          1       0.47      0.56      0.51      1274\n",
      "\n",
      "avg / total       0.88      0.87      0.87     10062\n",
      "\n"
     ]
    }
   ],
   "source": [
    "rand_prob = rfc.predict_proba(X_test)[:, 1]\n",
    "log_prob = log.predict_proba(X_test)[:, 1]\n",
    "xgb_prob = xgb.predict_proba(X_test)[:, 1]\n",
    "nn_prob=classifier.predict(X_test)\n",
    "pred = pd.DataFrame(index=y_test.index) # new dataframe with combined results\n",
    "pred['Rand']=rand_prob\n",
    "pred['Log']=log_prob\n",
    "pred['XGB']=xgb_prob\n",
    "pred['Neural Network']=nn_prob\n",
    "pred['Mean']=(pred['Rand']+pred['Log']+pred['Neural Network']+pred['XGB'])/4.0\n",
    "pred['Y-Predicted']=(pred['Mean']>0.53).astype('int') # threshold for predicting\n",
    "pred['Y-real']=y_test\n",
    "print(classification_report(y_test,pred['Y-Predicted'].values))\n"
   ]
  },
  {
   "cell_type": "markdown",
   "metadata": {
    "colab_type": "text",
    "id": "-EYrirPVt5oO"
   },
   "source": [
    "There are some places, where one model compensates for the other model, thus making our combined model more accurate."
   ]
  },
  {
   "cell_type": "code",
   "execution_count": 133,
   "metadata": {
    "colab": {
     "base_uri": "https://localhost:8080/",
     "height": 502
    },
    "colab_type": "code",
    "id": "Fo0lD9FBsidS",
    "outputId": "bae1a4ef-de5f-4884-b00f-21917643239e"
   },
   "outputs": [
    {
     "data": {
      "text/html": [
       "<div>\n",
       "<style>\n",
       "    .dataframe thead tr:only-child th {\n",
       "        text-align: right;\n",
       "    }\n",
       "\n",
       "    .dataframe thead th {\n",
       "        text-align: left;\n",
       "    }\n",
       "\n",
       "    .dataframe tbody tr th {\n",
       "        vertical-align: top;\n",
       "    }\n",
       "</style>\n",
       "<table border=\"1\" class=\"dataframe\">\n",
       "  <thead>\n",
       "    <tr style=\"text-align: right;\">\n",
       "      <th></th>\n",
       "      <th>Rand</th>\n",
       "      <th>Log</th>\n",
       "      <th>XGB</th>\n",
       "      <th>Neural Network</th>\n",
       "      <th>Mean</th>\n",
       "      <th>Y-Predicted</th>\n",
       "      <th>Y-real</th>\n",
       "    </tr>\n",
       "  </thead>\n",
       "  <tbody>\n",
       "    <tr>\n",
       "      <th>24379</th>\n",
       "      <td>0.351669</td>\n",
       "      <td>0.115798</td>\n",
       "      <td>0.092338</td>\n",
       "      <td>0.205105</td>\n",
       "      <td>0.191228</td>\n",
       "      <td>0</td>\n",
       "      <td>1</td>\n",
       "    </tr>\n",
       "    <tr>\n",
       "      <th>36926</th>\n",
       "      <td>0.704887</td>\n",
       "      <td>0.836309</td>\n",
       "      <td>0.765764</td>\n",
       "      <td>0.632445</td>\n",
       "      <td>0.734851</td>\n",
       "      <td>1</td>\n",
       "      <td>1</td>\n",
       "    </tr>\n",
       "    <tr>\n",
       "      <th>39111</th>\n",
       "      <td>0.637321</td>\n",
       "      <td>0.631617</td>\n",
       "      <td>0.622783</td>\n",
       "      <td>0.313596</td>\n",
       "      <td>0.551329</td>\n",
       "      <td>1</td>\n",
       "      <td>1</td>\n",
       "    </tr>\n",
       "    <tr>\n",
       "      <th>24051</th>\n",
       "      <td>0.334887</td>\n",
       "      <td>0.179632</td>\n",
       "      <td>0.762401</td>\n",
       "      <td>0.284915</td>\n",
       "      <td>0.390459</td>\n",
       "      <td>0</td>\n",
       "      <td>1</td>\n",
       "    </tr>\n",
       "    <tr>\n",
       "      <th>30176</th>\n",
       "      <td>0.486871</td>\n",
       "      <td>0.527736</td>\n",
       "      <td>0.704895</td>\n",
       "      <td>0.642430</td>\n",
       "      <td>0.590483</td>\n",
       "      <td>1</td>\n",
       "      <td>1</td>\n",
       "    </tr>\n",
       "    <tr>\n",
       "      <th>27876</th>\n",
       "      <td>0.509655</td>\n",
       "      <td>0.400563</td>\n",
       "      <td>0.625028</td>\n",
       "      <td>0.613417</td>\n",
       "      <td>0.537166</td>\n",
       "      <td>1</td>\n",
       "      <td>1</td>\n",
       "    </tr>\n",
       "    <tr>\n",
       "      <th>24083</th>\n",
       "      <td>0.325926</td>\n",
       "      <td>0.129398</td>\n",
       "      <td>0.229945</td>\n",
       "      <td>0.285499</td>\n",
       "      <td>0.242692</td>\n",
       "      <td>0</td>\n",
       "      <td>1</td>\n",
       "    </tr>\n",
       "    <tr>\n",
       "      <th>38628</th>\n",
       "      <td>0.626992</td>\n",
       "      <td>0.694391</td>\n",
       "      <td>0.601235</td>\n",
       "      <td>0.338762</td>\n",
       "      <td>0.565345</td>\n",
       "      <td>1</td>\n",
       "      <td>1</td>\n",
       "    </tr>\n",
       "    <tr>\n",
       "      <th>1114</th>\n",
       "      <td>0.325569</td>\n",
       "      <td>0.158816</td>\n",
       "      <td>0.100154</td>\n",
       "      <td>0.187624</td>\n",
       "      <td>0.193041</td>\n",
       "      <td>0</td>\n",
       "      <td>1</td>\n",
       "    </tr>\n",
       "    <tr>\n",
       "      <th>30397</th>\n",
       "      <td>0.486871</td>\n",
       "      <td>0.516039</td>\n",
       "      <td>0.671938</td>\n",
       "      <td>0.648737</td>\n",
       "      <td>0.580896</td>\n",
       "      <td>1</td>\n",
       "      <td>1</td>\n",
       "    </tr>\n",
       "    <tr>\n",
       "      <th>34860</th>\n",
       "      <td>0.489432</td>\n",
       "      <td>0.288430</td>\n",
       "      <td>0.274251</td>\n",
       "      <td>0.494788</td>\n",
       "      <td>0.386725</td>\n",
       "      <td>0</td>\n",
       "      <td>1</td>\n",
       "    </tr>\n",
       "    <tr>\n",
       "      <th>41050</th>\n",
       "      <td>0.588764</td>\n",
       "      <td>0.742872</td>\n",
       "      <td>0.873741</td>\n",
       "      <td>0.658092</td>\n",
       "      <td>0.715868</td>\n",
       "      <td>1</td>\n",
       "      <td>1</td>\n",
       "    </tr>\n",
       "    <tr>\n",
       "      <th>37957</th>\n",
       "      <td>0.636668</td>\n",
       "      <td>0.630457</td>\n",
       "      <td>0.733854</td>\n",
       "      <td>0.335153</td>\n",
       "      <td>0.584033</td>\n",
       "      <td>1</td>\n",
       "      <td>1</td>\n",
       "    </tr>\n",
       "    <tr>\n",
       "      <th>37274</th>\n",
       "      <td>0.637321</td>\n",
       "      <td>0.504612</td>\n",
       "      <td>0.585342</td>\n",
       "      <td>0.273452</td>\n",
       "      <td>0.500182</td>\n",
       "      <td>0</td>\n",
       "      <td>1</td>\n",
       "    </tr>\n",
       "    <tr>\n",
       "      <th>4793</th>\n",
       "      <td>0.325926</td>\n",
       "      <td>0.151566</td>\n",
       "      <td>0.091784</td>\n",
       "      <td>0.194712</td>\n",
       "      <td>0.190997</td>\n",
       "      <td>0</td>\n",
       "      <td>1</td>\n",
       "    </tr>\n",
       "  </tbody>\n",
       "</table>\n",
       "</div>"
      ],
      "text/plain": [
       "           Rand       Log       XGB  Neural Network      Mean  Y-Predicted  \\\n",
       "24379  0.351669  0.115798  0.092338        0.205105  0.191228            0   \n",
       "36926  0.704887  0.836309  0.765764        0.632445  0.734851            1   \n",
       "39111  0.637321  0.631617  0.622783        0.313596  0.551329            1   \n",
       "24051  0.334887  0.179632  0.762401        0.284915  0.390459            0   \n",
       "30176  0.486871  0.527736  0.704895        0.642430  0.590483            1   \n",
       "27876  0.509655  0.400563  0.625028        0.613417  0.537166            1   \n",
       "24083  0.325926  0.129398  0.229945        0.285499  0.242692            0   \n",
       "38628  0.626992  0.694391  0.601235        0.338762  0.565345            1   \n",
       "1114   0.325569  0.158816  0.100154        0.187624  0.193041            0   \n",
       "30397  0.486871  0.516039  0.671938        0.648737  0.580896            1   \n",
       "34860  0.489432  0.288430  0.274251        0.494788  0.386725            0   \n",
       "41050  0.588764  0.742872  0.873741        0.658092  0.715868            1   \n",
       "37957  0.636668  0.630457  0.733854        0.335153  0.584033            1   \n",
       "37274  0.637321  0.504612  0.585342        0.273452  0.500182            0   \n",
       "4793   0.325926  0.151566  0.091784        0.194712  0.190997            0   \n",
       "\n",
       "       Y-real  \n",
       "24379       1  \n",
       "36926       1  \n",
       "39111       1  \n",
       "24051       1  \n",
       "30176       1  \n",
       "27876       1  \n",
       "24083       1  \n",
       "38628       1  \n",
       "1114        1  \n",
       "30397       1  \n",
       "34860       1  \n",
       "41050       1  \n",
       "37957       1  \n",
       "37274       1  \n",
       "4793        1  "
      ]
     },
     "execution_count": 133,
     "metadata": {},
     "output_type": "execute_result"
    }
   ],
   "source": [
    "pred[pred['Y-real']==1].sample(15) # predictions which should be 1"
   ]
  },
  {
   "cell_type": "code",
   "execution_count": 134,
   "metadata": {
    "colab": {
     "base_uri": "https://localhost:8080/",
     "height": 415
    },
    "colab_type": "code",
    "id": "lpbM6yMAXdAT",
    "outputId": "4eba4de4-69f9-470d-b789-0a96bca8090f"
   },
   "outputs": [
    {
     "data": {
      "image/png": "[encoded data removed]",
      "text/plain": [
       "<matplotlib.figure.Figure at 0x1860008a908>"
      ]
     },
     "metadata": {},
     "output_type": "display_data"
    }
   ],
   "source": [
    "cnf_matrix=confusion_matrix(y_test, pred['Y-Predicted'].values)#final confusion matrix\n",
    "plot_confusion_matrix(cnf_matrix, classes=class_names, normalize=False,title='Combined Confusion Matrix')"
   ]
  },
  {
   "cell_type": "markdown",
   "metadata": {
    "colab_type": "text",
    "id": "j3SbDXXlnenX"
   },
   "source": [
    "The final confusion matrix shows some improvement in correctly classified Class 1."
   ]
  },
  {
   "cell_type": "markdown",
   "metadata": {
    "colab_type": "text",
    "id": "QUTGiP2pFDti"
   },
   "source": [
    "### Part 11. Conclusions"
   ]
  },
  {
   "cell_type": "markdown",
   "metadata": {
    "colab_type": "text",
    "id": "Xh1P7qcMtK1l"
   },
   "source": [
    "To summarise this notebook :-\n",
    "\n",
    "\n",
    "*   We first looked at the data and understood some basic statistics of the columns.\n",
    "*   Exploratory data analysis was done to see what kind od people subscrined a term deposit.\n",
    "*   Then we prepared the data for machine learning models and created new features.\n",
    "*   Used grid search and iteration to find best value for class weight to get good precison and recall for lower numbered class.\n",
    "*   Used artificial neural network to try and get a better model.\n",
    "*   Combined results to get best possible prediction.\n",
    "\n",
    "The main problem as iterated before is that , as we have dataset imbalance, we need more data to get better results for Class 1.\n",
    "\n",
    "\n"
   ]
  },
  {
   "cell_type": "markdown",
   "metadata": {
    "colab_type": "text",
    "id": "LwhbvukquEla"
   },
   "source": [
    "### Classification Report "
   ]
  },
  {
   "cell_type": "code",
   "execution_count": 136,
   "metadata": {
    "colab": {
     "base_uri": "https://localhost:8080/",
     "height": 632
    },
    "colab_type": "code",
    "id": "FR5-7SvmmJqo",
    "outputId": "eaac67ba-fef6-4170-91cd-fc955b01268f"
   },
   "outputs": [
    {
     "name": "stdout",
     "output_type": "stream",
     "text": [
      "Random Forest\n",
      "             precision    recall  f1-score   support\n",
      "\n",
      "          0       0.93      0.89      0.91      8788\n",
      "          1       0.43      0.55      0.48      1274\n",
      "\n",
      "avg / total       0.87      0.85      0.86     10062\n",
      "\n",
      "                         +\n",
      "Logistic Regression\n",
      "             precision    recall  f1-score   support\n",
      "\n",
      "          0       0.93      0.89      0.91      8788\n",
      "          1       0.42      0.57      0.49      1274\n",
      "\n",
      "avg / total       0.87      0.85      0.86     10062\n",
      "\n",
      "                         +\n",
      "XGB\n",
      "             precision    recall  f1-score   support\n",
      "\n",
      "          0       0.94      0.89      0.91      8788\n",
      "          1       0.45      0.62      0.52      1274\n",
      "\n",
      "avg / total       0.88      0.85      0.86     10062\n",
      "\n",
      "                         +\n",
      "Neural Network\n",
      "             precision    recall  f1-score   support\n",
      "\n",
      "          0       0.94      0.85      0.89      8788\n",
      "          1       0.38      0.62      0.47      1274\n",
      "\n",
      "avg / total       0.87      0.82      0.84     10062\n",
      "\n",
      "                         =\n",
      "Combined model\n",
      "             precision    recall  f1-score   support\n",
      "\n",
      "          0       0.93      0.91      0.92      8788\n",
      "          1       0.47      0.56      0.51      1274\n",
      "\n",
      "avg / total       0.88      0.87      0.87     10062\n",
      "\n"
     ]
    }
   ],
   "source": [
    "print('Random Forest')\n",
    "print(classification_report(y_test,rand_pred))\n",
    "print(' '*25+'+')\n",
    "print('Logistic Regression')\n",
    "print(classification_report(y_test,log_pred))\n",
    "print(' '*25+'+')\n",
    "print('XGB')\n",
    "print(classification_report(y_test,xgb_pred))\n",
    "print(' '*25+'+')\n",
    "print('Neural Network')\n",
    "print(classification_report(y_test,dl_pred1))\n",
    "print(' '*25+'=')\n",
    "print('Combined model')\n",
    "print(classification_report(y_test,pred['Y-Predicted'].values))"
   ]
  },
  {
   "cell_type": "code",
   "execution_count": 140,
   "metadata": {},
   "outputs": [
    {
     "name": "stdout",
     "output_type": "stream",
     "text": [
      "Saved model to disk\n"
     ]
    }
   ],
   "source": [
    "import pickle \n",
    "from sklearn.externals import joblib\n",
    "from keras.models import model_from_json\n",
    "filename = 'finalized_rfc.sav'\n",
    "pickle.dump(rfc, open(filename, 'wb'))\n",
    "\n",
    "filename = 'finalized_log.sav'\n",
    "pickle.dump(log, open(filename, 'wb'))\n",
    "\n",
    "filename = 'finalized_xgb.sav'\n",
    "pickle.dump(xgb, open(filename, 'wb'))\n",
    "\n",
    "model_json = classifier.to_json()\n",
    "with open(\"neural_net.json\", \"w\") as json_file:\n",
    "    json_file.write(model_json)\n",
    "# serialize weights to HDF5\n",
    "classifier.save_weights(\"neural_net.h5\")\n",
    "print(\"Saved model to disk\")\n",
    "\n"
   ]
  },
  {
   "cell_type": "code",
   "execution_count": 164,
   "metadata": {},
   "outputs": [],
   "source": [
    "var_R = ( 137 / 255 )\n",
    "var_G = ( 56 / 255 )\n",
    "var_B = ( 146 / 255 )\n",
    "import math\n",
    "if var_R > 0.04045 :\n",
    "    var_R = (( var_R + 0.055 ) / 1.055 )\n",
    "    var_R=math.pow(var_R, 2.4)\n",
    "else     :\n",
    "    var_R = var_R / 12.92\n",
    "if  var_G > 0.04045  :\n",
    "    var_G = (( var_G + 0.055 ) / 1.055 )\n",
    "    var_G=math.pow(var_R, 2.4)\n",
    "else     :\n",
    "    var_G = var_G / 12.92\n",
    "if var_B > 0.04045 :\n",
    "    var_B = (( var_B + 0.055 ) / 1.055 )\n",
    "    var_B=math.pow(var_B, 2.4)\n",
    "else         :\n",
    "    var_B = var_B / 12.92\n",
    "\n",
    "var_R = var_R * 100\n",
    "var_G = var_G * 100\n",
    "var_B = var_B * 100\n",
    "\n",
    "X = (var_R * 0.4124) + (var_G * 0.3576) + (var_B * 0.1805)\n",
    "Y =( var_R * 0.2126) + (var_G * 0.7152) + (var_B * 0.0722)\n",
    "Z = (var_R * 0.0193) + (var_G * 0.1192) + (var_B * 0.9505)"
   ]
  },
  {
   "cell_type": "code",
   "execution_count": 165,
   "metadata": {},
   "outputs": [
    {
     "data": {
      "text/plain": [
       "(16.790456639582892, 9.964931694444658, 28.232597734255233)"
      ]
     },
     "execution_count": 165,
     "metadata": {},
     "output_type": "execute_result"
    }
   ],
   "source": [
    "X,Y,Z"
   ]
  },
  {
   "cell_type": "code",
   "execution_count": 166,
   "metadata": {},
   "outputs": [
    {
     "data": {
      "text/plain": [
       "(9.964931694444658, 0.30534772847896086, 0.181220161110655)"
      ]
     },
     "execution_count": 166,
     "metadata": {},
     "output_type": "execute_result"
    }
   ],
   "source": [
    "Y = Y\n",
    "x = X / ( X + Y + Z )\n",
    "y = Y / ( X + Y + Z )\n",
    "Y,x,y"
   ]
  },
  {
   "cell_type": "code",
   "execution_count": 167,
   "metadata": {
    "collapsed": true
   },
   "outputs": [],
   "source": [
    "#CMY\n",
    "var_R = ( 137 / 255 )\n",
    "var_G = ( 56 / 255 )\n",
    "var_B = ( 146 / 255 )\n",
    "C = 1 - ( var_R )\n",
    "M = 1 - ( var_G )\n",
    "Y = 1 - ( var_B )\n",
    "#CMYK\n",
    "var_K = 1\n",
    "\n",
    "if  C < var_K :   var_K = C;\n",
    "if  M < var_K :   var_K = M;\n",
    "if  Y < var_K:   var_K = Y;\n",
    "if  var_K == 1 :     \n",
    "    C = 0          #black only\n",
    "    M = 0\n",
    "    Y = 0\n",
    "\n",
    "else :\n",
    "    C = ( C - var_K ) / ( 1 - var_K )\n",
    "    M = ( M - var_K ) / ( 1 - var_K )\n",
    "    Y = ( Y - var_K ) / ( 1 - var_K )\n",
    "\n",
    "K = var_K"
   ]
  },
  {
   "cell_type": "code",
   "execution_count": 168,
   "metadata": {},
   "outputs": [
    {
     "data": {
      "text/plain": [
       "(0.06164383561643833, 0.6164383561643836, 0.0, 0.4274509803921569)"
      ]
     },
     "execution_count": 168,
     "metadata": {},
     "output_type": "execute_result"
    }
   ],
   "source": [
    "C,M,Y,K"
   ]
  },
  {
   "cell_type": "code",
   "execution_count": 169,
   "metadata": {},
   "outputs": [],
   "source": [
    "#HSV\n",
    "var_R = ( 137 / 255 )\n",
    "var_G = ( 56 / 255 )\n",
    "var_B = ( 146 / 255 )\n",
    "var_Min = min( var_R, var_G, var_B )    #Min. value of RGB\n",
    "var_Max = max( var_R, var_G, var_B )    #Max. value of RGB\n",
    "del_Max = var_Max - var_Min             #Delta RGB value\n",
    "\n",
    "V = var_Max\n",
    "\n",
    "if  del_Max == 0:#                     //This is a gray, no chroma...\n",
    "\n",
    "    H = 0\n",
    "    S = 0\n",
    "else :#                                   //Chromatic data...\n",
    "    S = del_Max / var_Max\n",
    "\n",
    "    del_R = ( ( ( var_Max - var_R ) / 6 ) + ( del_Max / 2 ) ) / del_Max\n",
    "    del_G = ( ( ( var_Max - var_G ) / 6 ) + ( del_Max / 2 ) ) / del_Max\n",
    "    del_B = ( ( ( var_Max - var_B ) / 6 ) + ( del_Max / 2 ) ) / del_Max\n",
    "\n",
    "    if var_R == var_Max :\n",
    "        H = del_B - del_G\n",
    "    elif var_G == var_Max :\n",
    "        H = ( 1 / 3 ) + del_R - del_B\n",
    "    elif var_B == var_Max:\n",
    "        H = ( 2 / 3 ) + del_G - del_R\n",
    "\n",
    "    if  H < 0:\n",
    "        H += 1\n",
    "    if  H > 1:\n",
    "        H -= 1\n"
   ]
  },
  {
   "cell_type": "code",
   "execution_count": 170,
   "metadata": {},
   "outputs": [
    {
     "data": {
      "text/plain": [
       "(0.8166666666666665, 0.6164383561643836, 0.5725490196078431)"
      ]
     },
     "execution_count": 170,
     "metadata": {},
     "output_type": "execute_result"
    }
   ],
   "source": [
    "H,S,V"
   ]
  },
  {
   "cell_type": "code",
   "execution_count": 172,
   "metadata": {},
   "outputs": [],
   "source": [
    "#hsl\n",
    "var_R = ( 137 / 255 )\n",
    "var_G = ( 56 / 255 )\n",
    "var_B = ( 146 / 255 )\n",
    "var_Min = min( var_R, var_G, var_B )    #//Min. value of RGB\n",
    "var_Max = max( var_R, var_G, var_B )    #//Max. value of RGB\n",
    "del_Max = var_Max - var_Min             #//Delta RGB value\n",
    "\n",
    "L = ( var_Max + var_Min )/ 2\n",
    "\n",
    "if  del_Max == 0: #              //This is a gray, no chroma...\n",
    "    H = 0\n",
    "    S = 0\n",
    "\n",
    "else        :#                            //Chromatic data...\n",
    "\n",
    "    if  L < 0.5  :\n",
    "        S = del_Max / ( var_Max + var_Min )\n",
    "    else:     \n",
    "        S = del_Max / ( 2 - var_Max - var_Min )\n",
    "\n",
    "    del_R = ( ( ( var_Max - var_R ) / 6 ) + ( del_Max / 2 ) ) / del_Max\n",
    "    del_G = ( ( ( var_Max - var_G ) / 6 ) + ( del_Max / 2 ) ) / del_Max\n",
    "    del_B = ( ( ( var_Max - var_B ) / 6 ) + ( del_Max / 2 ) ) / del_Max\n",
    "    if var_R == var_Max :\n",
    "        H = del_B - del_G\n",
    "    elif var_G == var_Max :\n",
    "        H = ( 1 / 3 ) + del_R - del_B\n",
    "    elif var_B == var_Max:\n",
    "        H = ( 2 / 3 ) + del_G - del_R\n",
    "\n",
    "   "
   ]
  },
  {
   "cell_type": "code",
   "execution_count": 173,
   "metadata": {},
   "outputs": [
    {
     "data": {
      "text/plain": [
       "(0.8166666666666665, 0.44554455445544555, 0.396078431372549)"
      ]
     },
     "execution_count": 173,
     "metadata": {},
     "output_type": "execute_result"
    }
   ],
   "source": [
    "H,S,L"
   ]
  },
  {
   "cell_type": "code",
   "execution_count": null,
   "metadata": {
    "collapsed": true
   },
   "outputs": [],
   "source": []
  }
 ],
 "metadata": {
  "colab": {
   "collapsed_sections": [],
   "name": "project_template.ipynb",
   "provenance": [],
   "version": "0.3.2"
  },
  "kernelspec": {
   "display_name": "Python 3",
   "language": "python",
   "name": "python3"
  },
  "language_info": {
   "codemirror_mode": {
    "name": "ipython",
    "version": 3
   },
   "file_extension": ".py",
   "mimetype": "text/x-python",
   "name": "python",
   "nbconvert_exporter": "python",
   "pygments_lexer": "ipython3",
   "version": "3.6.3"
  }
 },
 "nbformat": 4,
 "nbformat_minor": 1
}
